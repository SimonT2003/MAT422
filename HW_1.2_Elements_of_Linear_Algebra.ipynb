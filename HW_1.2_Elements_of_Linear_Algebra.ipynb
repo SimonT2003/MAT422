{
  "nbformat": 4,
  "nbformat_minor": 0,
  "metadata": {
    "colab": {
      "provenance": [],
      "authorship_tag": "ABX9TyOEoIRESkuGyn8bAQAwjiuY",
      "include_colab_link": true
    },
    "kernelspec": {
      "name": "python3",
      "display_name": "Python 3"
    },
    "language_info": {
      "name": "python"
    }
  },
  "cells": [
    {
      "cell_type": "markdown",
      "metadata": {
        "id": "view-in-github",
        "colab_type": "text"
      },
      "source": [
        "<a href=\"https://colab.research.google.com/github/SimonT2003/MAT422/blob/main/HW_1.2_Elements_of_Linear_Algebra.ipynb\" target=\"_parent\"><img src=\"https://colab.research.google.com/assets/colab-badge.svg\" alt=\"Open In Colab\"/></a>"
      ]
    },
    {
      "cell_type": "markdown",
      "source": [
        "# **Elements of Linear Algebra in Python**"
      ],
      "metadata": {
        "id": "TxTeXYt9Rqer"
      }
    },
    {
      "cell_type": "markdown",
      "source": [
        "The following are the important topics in linear algebra that will be discussed:\n",
        "\n",
        "*   1.2.1 - **Linear Spaces**\n",
        "  *   1.2.1.1 - Linear Combinations\n",
        "  *   1.2.1.2 - Linear Subspaces\n",
        "  *   1.2.1.3 - Span\n",
        "  *   1.2.1.4 - Linear Independence and Dimension\n",
        "*   1.2.2 - **Orthogonality**\n",
        "  - 1.2.2.1 - Orthonormal Bases\n",
        "* 1.2.3 - **Projection**\n",
        "- 1.2.4 - **Gram-Schmidt Process**\n",
        "- 1.2.5 - **Eigenvalues and Eigenvectors**\n",
        "\n",
        "\n",
        "\n",
        "\n",
        "\n",
        "\n",
        "\n",
        "\n",
        "\n",
        "\n"
      ],
      "metadata": {
        "id": "R-QxWRHUlR6p"
      }
    },
    {
      "cell_type": "markdown",
      "source": [
        "## **Introduction to Linear Algebra**"
      ],
      "metadata": {
        "id": "2Gi_1Y3nxU5z"
      }
    },
    {
      "cell_type": "markdown",
      "source": [
        "Linear algebra is a significant field of mathematics. Linear algebra is primarily concerned with vectors and linear functions. It is used mostly in physics and engineering to define fundamental objects like planes, lines, and object rotations. It enables us to mimic numerous natural events while also being computationally efficient.\n",
        "\n",
        "For data science, linear algebra is behind all the practical ML algorithms that data scientists used. According to Khyati Mahendru from Analytics Vidhya, she said: \"If Data Science was Batman, Linear Algebra would be Robin\". Sometimes the sidekick are often ignored. So, linear algebra is a must-know subject in data science to truly understand what's happening behind the curtains.  \n",
        "\n",
        "\n"
      ],
      "metadata": {
        "id": "4nnx9fvNxtcJ"
      }
    },
    {
      "cell_type": "markdown",
      "source": [
        "## **Main Package for Linear Algebra in Python**"
      ],
      "metadata": {
        "id": "-mJLh7CF2xg6"
      }
    },
    {
      "cell_type": "markdown",
      "source": [
        "The main package for linear algebra in Python is the SciPy subpackage scipy.linalg which builds on NumPy."
      ],
      "metadata": {
        "id": "h78gx8iA3CHf"
      }
    },
    {
      "cell_type": "code",
      "source": [
        "import numpy as np\n",
        "import scipy.linalg as la"
      ],
      "metadata": {
        "id": "eXvOhRN328ca"
      },
      "execution_count": 1,
      "outputs": []
    },
    {
      "cell_type": "markdown",
      "source": [
        "## **Pre-Start: NumPy Arrays**"
      ],
      "metadata": {
        "id": "f_Yx2Dma6Gqu"
      }
    },
    {
      "cell_type": "markdown",
      "source": [
        "NumPy is used to work with arrays."
      ],
      "metadata": {
        "id": "xo1QC6tx6air"
      }
    },
    {
      "cell_type": "code",
      "source": [
        "A = np.array([1, 2, 3, 4, 5]) # This creates a 1-dimension array\n",
        "print(A)"
      ],
      "metadata": {
        "colab": {
          "base_uri": "https://localhost:8080/"
        },
        "id": "t_z8zhvx3_7W",
        "outputId": "0e628516-94cc-4b9a-d2f7-dc33bc3d4029"
      },
      "execution_count": null,
      "outputs": [
        {
          "output_type": "stream",
          "name": "stdout",
          "text": [
            "[1 2 3 4 5]\n"
          ]
        }
      ]
    },
    {
      "cell_type": "code",
      "source": [
        "print(A.ndim) # This shows that A is a 1-dimension array"
      ],
      "metadata": {
        "colab": {
          "base_uri": "https://localhost:8080/"
        },
        "id": "naEljAjW6zyC",
        "outputId": "52d4e446-f6e9-4abc-d5cf-0fbd9787d6fd"
      },
      "execution_count": null,
      "outputs": [
        {
          "output_type": "stream",
          "name": "stdout",
          "text": [
            "1\n"
          ]
        }
      ]
    },
    {
      "cell_type": "code",
      "source": [
        "print(A.shape) # Shape of array A. In this case only the length is shown because it is a 1D array"
      ],
      "metadata": {
        "colab": {
          "base_uri": "https://localhost:8080/"
        },
        "id": "brOqBfag7R1E",
        "outputId": "67938961-db19-4fea-f617-78a9b066a1b8"
      },
      "execution_count": null,
      "outputs": [
        {
          "output_type": "stream",
          "name": "stdout",
          "text": [
            "(5,)\n"
          ]
        }
      ]
    },
    {
      "cell_type": "code",
      "source": [
        "print(A.size) # Size or number of elements of array A"
      ],
      "metadata": {
        "colab": {
          "base_uri": "https://localhost:8080/"
        },
        "id": "_3IrbR-s8tJA",
        "outputId": "08d87c40-da46-4991-c57f-066f907a8fa8"
      },
      "execution_count": null,
      "outputs": [
        {
          "output_type": "stream",
          "name": "stdout",
          "text": [
            "5\n"
          ]
        }
      ]
    },
    {
      "cell_type": "code",
      "source": [
        "B = np.array([[1,3],[4,5],[7,9]]) # This creates a 2-dimension array (matrix)\n",
        "print(B)"
      ],
      "metadata": {
        "colab": {
          "base_uri": "https://localhost:8080/"
        },
        "id": "HG-i9GqH9S2d",
        "outputId": "1b7181d1-c644-458b-dd67-f2858dc7f522"
      },
      "execution_count": null,
      "outputs": [
        {
          "output_type": "stream",
          "name": "stdout",
          "text": [
            "[[1 3]\n",
            " [4 5]\n",
            " [7 9]]\n"
          ]
        }
      ]
    },
    {
      "cell_type": "code",
      "source": [
        "print(B.ndim) # This shows that A is a 2-dimension array"
      ],
      "metadata": {
        "colab": {
          "base_uri": "https://localhost:8080/"
        },
        "id": "YJZg4nUk9qZO",
        "outputId": "161abf95-9c66-4f47-8824-fe67f18e8950"
      },
      "execution_count": null,
      "outputs": [
        {
          "output_type": "stream",
          "name": "stdout",
          "text": [
            "2\n"
          ]
        }
      ]
    },
    {
      "cell_type": "code",
      "source": [
        "print(B.shape) # This is a 3x2 matrix"
      ],
      "metadata": {
        "colab": {
          "base_uri": "https://localhost:8080/"
        },
        "id": "jFA40h-h-P2s",
        "outputId": "d0f0a65b-596a-44f9-9e68-38229151b130"
      },
      "execution_count": null,
      "outputs": [
        {
          "output_type": "stream",
          "name": "stdout",
          "text": [
            "(3, 2)\n"
          ]
        }
      ]
    },
    {
      "cell_type": "code",
      "source": [
        "print(B.size) # The length or size or the # of elements in matrix B is 6"
      ],
      "metadata": {
        "colab": {
          "base_uri": "https://localhost:8080/"
        },
        "id": "8i6DQ6Kf-iFB",
        "outputId": "9fb0bc5e-2243-4074-8f79-69a82c6a7d4b"
      },
      "execution_count": null,
      "outputs": [
        {
          "output_type": "stream",
          "name": "stdout",
          "text": [
            "6\n"
          ]
        }
      ]
    },
    {
      "cell_type": "code",
      "source": [
        "col_1 = B[:,0] # This selects the first column of matrix B\n",
        "print(col_1)"
      ],
      "metadata": {
        "colab": {
          "base_uri": "https://localhost:8080/"
        },
        "id": "YBORW1ST_nAx",
        "outputId": "e4ee2c8d-f8f5-4673-a707-2efc65197551"
      },
      "execution_count": null,
      "outputs": [
        {
          "output_type": "stream",
          "name": "stdout",
          "text": [
            "[1 4 7]\n"
          ]
        }
      ]
    },
    {
      "cell_type": "code",
      "source": [
        "col_2 = B[:,1] # This selects the second column of matrix B\n",
        "print(col_2)"
      ],
      "metadata": {
        "colab": {
          "base_uri": "https://localhost:8080/"
        },
        "id": "X18XYKZDAXFv",
        "outputId": "8f13ea68-55b0-4e24-ed72-28ae2be16f65"
      },
      "execution_count": null,
      "outputs": [
        {
          "output_type": "stream",
          "name": "stdout",
          "text": [
            "[3 5 9]\n"
          ]
        }
      ]
    },
    {
      "cell_type": "code",
      "source": [
        "row_1 = B[0,:] # This selects the first row of matrix B\n",
        "print(row_1)\n",
        "\n",
        "row_2 = B[1,:] # This selects the second row of matrix B\n",
        "print(row_2)\n",
        "\n",
        "row_3 = B[2,:] # This selects the third row of matrix B\n",
        "print(row_3)"
      ],
      "metadata": {
        "colab": {
          "base_uri": "https://localhost:8080/"
        },
        "id": "2OY19DrmA9sb",
        "outputId": "c7bd5266-df9a-4b67-afbb-b229b705212a"
      },
      "execution_count": null,
      "outputs": [
        {
          "output_type": "stream",
          "name": "stdout",
          "text": [
            "[1 3]\n",
            "[4 5]\n",
            "[7 9]\n"
          ]
        }
      ]
    },
    {
      "cell_type": "markdown",
      "source": [
        "## **1.2.1 - Linear Spaces**"
      ],
      "metadata": {
        "id": "M4VxTUK7Ez41"
      }
    },
    {
      "cell_type": "markdown",
      "source": [
        "### **1.2.1.1 - Linear Combination**"
      ],
      "metadata": {
        "id": "Ynbuj3MVK0eB"
      }
    },
    {
      "cell_type": "markdown",
      "source": [
        "Definition - Linear Combination\n",
        "\n",
        "A ***linear combination*** of a list $v_1, v_2, ..., v_n$ of vectors in $V$ is a vector of the form\n",
        "\n",
        "$a_1v_1 + a_2v_2 +...+ a_nv_n$,\n",
        "\n",
        "where $a_1,a_2,...,a_n \\in F$.\n",
        "\n",
        "$F$ denotes $\\mathbb{R}$ or $\\mathbb{C}$\n"
      ],
      "metadata": {
        "id": "gzFVBFpeLCQr"
      }
    },
    {
      "cell_type": "code",
      "source": [
        "# Ex. Let's define a1, a2, and a3\n",
        "a1 = 5\n",
        "a2 = 4\n",
        "a3 = 7\n",
        "\n",
        "# Let's define vectors v1, v2, and v3\n",
        "v1 = np.array([1, 2])\n",
        "v2 = np.array([3, 4])\n",
        "v3 = np.array([5, 6])\n",
        "\n",
        "# Compute the linear combination\n",
        "linear_combination = a1*v1 + a2*v2 + a3*v3\n",
        "\n",
        "print(\"Linear combination result:\", linear_combination)"
      ],
      "metadata": {
        "id": "d0xHlAS9CYYr",
        "colab": {
          "base_uri": "https://localhost:8080/"
        },
        "outputId": "665108db-2d6a-4ff9-8e30-3684dc45dae4"
      },
      "execution_count": null,
      "outputs": [
        {
          "output_type": "stream",
          "name": "stdout",
          "text": [
            "Linear combination result: [52 68]\n"
          ]
        }
      ]
    },
    {
      "cell_type": "markdown",
      "source": [
        "### **1.2.1.2 - Linear Subspace**"
      ],
      "metadata": {
        "id": "5IUKiF41SeMl"
      }
    },
    {
      "cell_type": "markdown",
      "source": [
        "A subset $U⊆V$ is called a ***subspace*** of $V$ if and only if $U$ satistifes the following three conditions:\n",
        "\n",
        "* **additive identity**:  $0\\in$ $U$\n",
        "* **closed under addition**: $u, w \\in U$ implies $u + w \\in U$\n",
        "* **closed under scalar multiplication**: $a \\in F$ and $u \\in U$ implies $a \\cdot u \\in U$."
      ],
      "metadata": {
        "id": "Pw4p3JhzUqBb"
      }
    },
    {
      "cell_type": "code",
      "source": [
        "u = np.array([3,2])\n",
        "w = np.array([6,4])\n",
        "print(u+w,'is also in U')\n",
        "a = 5\n",
        "print(a*u, 'is also in U')"
      ],
      "metadata": {
        "colab": {
          "base_uri": "https://localhost:8080/"
        },
        "id": "Ou7MUO-BUoc3",
        "outputId": "f74620fd-12d1-40f8-a916-6c0284f9efb5"
      },
      "execution_count": null,
      "outputs": [
        {
          "output_type": "stream",
          "name": "stdout",
          "text": [
            "[9 6] is also in U\n",
            "[15 10] is also in U\n"
          ]
        }
      ]
    },
    {
      "cell_type": "markdown",
      "source": [
        "### **1.2.1.3 - Span**"
      ],
      "metadata": {
        "id": "dORI7fbaZshb"
      }
    },
    {
      "cell_type": "markdown",
      "source": [
        "The set of all linear combinations of a list of vectors $v_1,...,v_m$ in $V$ is called the **span** of $v_1,...,v_m$, denoted span($v_1,...,v_m$). In other words,\n",
        "\n",
        "span($v_1,...,v_m$) $= \\{a_1v_1+...+a_mv_m:a_1,...,a_m\\in F\\}$.\n",
        "\n",
        "The span of the empty list ( ) is defined to be {0}."
      ],
      "metadata": {
        "id": "7g_9wki6KRYq"
      }
    },
    {
      "cell_type": "markdown",
      "source": [
        "### **1.2.1.4 - Linear Independence and Dimension**"
      ],
      "metadata": {
        "id": "BdN2CMC8QC-A"
      }
    },
    {
      "cell_type": "markdown",
      "source": [
        "\n",
        "*   A list $v_1,...,v_m$ of vectors in $V$ is called **linearly independent** if the only choice of $a_1,...,a_m \\in F$ that makes $a_1v_1+...+a_mv_m=0.$\n",
        "*   The empty list () is also declared to be linearly independent.\n",
        "\n"
      ],
      "metadata": {
        "id": "tUz7ZFnHQWYz"
      }
    },
    {
      "cell_type": "markdown",
      "source": [
        "Example 1\n",
        "\n",
        "Consider a matrix A, determine if columns of A are linearly independent.\n",
        "\n",
        "\\begin{align}\n",
        "A = \\begin{bmatrix}\n",
        "0 & 1 & 4 \\\\\n",
        "1 & 2 & -1 \\\\\n",
        "5 & 8 & 0\n",
        "\\end{bmatrix}\n",
        "\\end{align}\n"
      ],
      "metadata": {
        "id": "MqCFPRn2T3Fj"
      }
    },
    {
      "cell_type": "markdown",
      "source": [
        "Solve the system via augmented matrix"
      ],
      "metadata": {
        "id": "_ZCC17mhWXnH"
      }
    },
    {
      "cell_type": "code",
      "source": [
        "import sympy as sy\n",
        "\n",
        "A = sy.Matrix([[0,1,4,0],[1,2,-1,0],[5,8,0,0]])\n",
        "A.rref()"
      ],
      "metadata": {
        "id": "7ZZYHMuJZwrs",
        "colab": {
          "base_uri": "https://localhost:8080/"
        },
        "outputId": "0677dcd3-1ee3-42ef-a723-5f6036f51706"
      },
      "execution_count": null,
      "outputs": [
        {
          "output_type": "execute_result",
          "data": {
            "text/plain": [
              "(Matrix([\n",
              " [1, 0, 0, 0],\n",
              " [0, 1, 0, 0],\n",
              " [0, 0, 1, 0]]),\n",
              " (0, 1, 2))"
            ]
          },
          "metadata": {},
          "execution_count": 2
        }
      ]
    },
    {
      "cell_type": "markdown",
      "source": [
        "**$Ax=0$** has only trivial solution, i.e. $(c_1,c_2,c_3)^T=(0,0,0)$, so the columns of $A$ are linearly independent."
      ],
      "metadata": {
        "id": "c5TI3a1IXJ7J"
      }
    },
    {
      "cell_type": "markdown",
      "source": [
        "### **Linearly Dependent**\n",
        "\n",
        "*   A list of vectors in $V$ is called **linearly dependent** if it is not linearly independent.\n",
        "*   In other words, a list $v_1,...,v_m$ of vectors in $V$ is linear dependent if there exist $a_1,...,a_m\\in F$, not all 0, such that $a_1v_1+...+a_mv_m=0.$\n",
        "\n"
      ],
      "metadata": {
        "id": "HuB2yJ7hq8xs"
      }
    },
    {
      "cell_type": "markdown",
      "source": [
        "Example 2\n",
        "\n",
        "$(2,3,1),(1,-1,2),(7,3,8)$ is linearly dependent in $F^3$ because\n",
        "\n",
        "\\begin{align}\n",
        "2(2,3,1)+3(1,-1,2)+(-1)(7,3,8)=(0,0,0)\n",
        "\\end{align}"
      ],
      "metadata": {
        "id": "7TqguAWPs2Wt"
      }
    },
    {
      "cell_type": "markdown",
      "source": [
        "Definition - **dimension**, dim $V$\n",
        "\n",
        "\n",
        "\n",
        "*   The **dimension** of a finite-dimensional vector space is the length of any basis of the vector space.\n",
        "*   The dimension of $V$ (if $V$ is finite-dimensional) is denoted by dim $V$.\n",
        "\n"
      ],
      "metadata": {
        "id": "381Cjmn9t5DD"
      }
    },
    {
      "cell_type": "markdown",
      "source": [
        "## 1.2.2 - Orthogonality"
      ],
      "metadata": {
        "id": "OoLYUcFfu4U-"
      }
    },
    {
      "cell_type": "markdown",
      "source": [
        "### 1.2.2.1 - Orthonormal Bases"
      ],
      "metadata": {
        "id": "WkZbBTbEvHYb"
      }
    },
    {
      "cell_type": "markdown",
      "source": [
        "Definition - **orthonormal**\n",
        "\n",
        "\n",
        "\n",
        "*   A list of vectors is called **orthonormal** if each vector in the list has norm 1 and is orthogonal to all the other vectors in the list.\n",
        "*   In other words, a list $e_1,...,e_m$ of vectors in $V$ is orthonormal if\n",
        "\\begin{align}\n",
        "\\langle e_j,e_k \\rangle = \\left\\{\n",
        "        \\begin{array}{cl}\n",
        "        1 & if\\ j = k \\\\\n",
        "        0 & if \\ j \\neq k.\n",
        "        \\end{array}\n",
        "        \\right.\n",
        "\\end{align}\n",
        "\n"
      ],
      "metadata": {
        "id": "ncaKicR0vyRR"
      }
    },
    {
      "cell_type": "markdown",
      "source": [
        "Definition - **Norm and Inner Product**\n",
        "\n",
        "$⟨u,v⟩ = u ⋅ v= \\sum_{i=1}^n u_i v_i $ and $\\lvert \\lvert u \\rvert \\rvert = \\sqrt{\\sum_{i=1}^n u_i^2}$"
      ],
      "metadata": {
        "id": "aFbwiT1RaSZs"
      }
    },
    {
      "cell_type": "code",
      "source": [
        "u = np.array([2,2])\n",
        "v = np.array([4,4])\n",
        "\n",
        "# Inner product\n",
        "LHS = u@v\n",
        "RHS = u[0]*v[0]+u[1]*v[1]\n",
        "print(LHS ,'is equal to ', RHS)"
      ],
      "metadata": {
        "id": "PgdJlUKAXzjK",
        "colab": {
          "base_uri": "https://localhost:8080/"
        },
        "outputId": "78d11270-b232-49e0-abc7-788188023528"
      },
      "execution_count": null,
      "outputs": [
        {
          "output_type": "stream",
          "name": "stdout",
          "text": [
            "16 is equal to  16\n"
          ]
        }
      ]
    },
    {
      "cell_type": "code",
      "source": [
        "# Norm\n",
        "import math\n",
        "LHS2 = math.sqrt(u[0]**2+u[1]**2)\n",
        "RHS2 = np.linalg.norm(u)\n",
        "print(LHS2 ,'is equal to ', RHS2)\n",
        "\n",
        "# The following also gives the norm\n",
        "RHS3 = math.sqrt(u@u)\n",
        "print(RHS3)"
      ],
      "metadata": {
        "colab": {
          "base_uri": "https://localhost:8080/"
        },
        "id": "VzKLgKHZdcii",
        "outputId": "ba755108-2550-45aa-81ff-207a35aa976b"
      },
      "execution_count": null,
      "outputs": [
        {
          "output_type": "stream",
          "name": "stdout",
          "text": [
            "2.8284271247461903 is equal to  2.8284271247461903\n",
            "2.8284271247461903\n"
          ]
        }
      ]
    },
    {
      "cell_type": "markdown",
      "source": [
        "## 1.2.3 - Projection"
      ],
      "metadata": {
        "id": "BCJD45bv3Jlt"
      }
    },
    {
      "cell_type": "markdown",
      "source": [
        "The length of a given vector’s shadow cast over another vector is the vector projection of one vector over another vector. It’s calculated by multiplying the magnitude of the two vectors by the cosecant of the angle between them. A scalar value is the outcome of a vector projection formula."
      ],
      "metadata": {
        "id": "5wBMorWM3Sbg"
      }
    },
    {
      "cell_type": "markdown",
      "source": [
        "\\begin{align}\n",
        "proj_\\vec u (\\vec v) = \\frac{\\vec u ⋅ \\vec v}{\\lvert \\lvert \\vec u \\rvert \\rvert^2} ⋅ \\vec u\n",
        "\\end{align}"
      ],
      "metadata": {
        "id": "iDE1LUwb5Jwu"
      }
    },
    {
      "cell_type": "code",
      "source": [
        "# Define vectors u and v\n",
        "u = np.array([1, 2, 3])   # vector u\n",
        "v = np.array([5, 6, 2])   # vector v:\n",
        "\n",
        "# Task: Project vector v on vector u\n",
        "\n",
        "# finding norm of the vector v\n",
        "u_norm = np.sqrt(sum(u**2))\n",
        "\n",
        "# Apply the formula as mentioned above\n",
        "# for projecting a vector onto another vector\n",
        "# find dot product using np.dot()\n",
        "proj_of_v_on_u = (np.dot(u, v)/u_norm**2)*u\n",
        "\n",
        "print(\"Projection of Vector v on Vector u is: \", proj_of_v_on_u)"
      ],
      "metadata": {
        "colab": {
          "base_uri": "https://localhost:8080/"
        },
        "id": "7sNAApwq8tHA",
        "outputId": "fe716999-6f1d-46fa-b059-dc4755da2d2b"
      },
      "execution_count": 2,
      "outputs": [
        {
          "output_type": "stream",
          "name": "stdout",
          "text": [
            "Projection of Vector v on Vector u is:  [1.64285714 3.28571429 4.92857143]\n"
          ]
        }
      ]
    },
    {
      "cell_type": "markdown",
      "source": [
        "## 1.2.4 - Gram-Schmidt Process"
      ],
      "metadata": {
        "id": "RAGENm87dzKV"
      }
    },
    {
      "cell_type": "markdown",
      "source": [
        "The Gram-Schmidt process (or procedure) is a sequence of operations that allow us to transform a set of linearly independent vectors into a set of orthonormal vectors that span the same space spanned by the original set."
      ],
      "metadata": {
        "id": "mnt2cCG72CGi"
      }
    },
    {
      "cell_type": "markdown",
      "source": [
        "$\\vec u_1= \\vec v_1$, &nbsp;&nbsp;&nbsp;&nbsp;&nbsp;&nbsp;&nbsp;&nbsp;&nbsp; &nbsp;&nbsp;&nbsp;&nbsp;&nbsp;&nbsp;&nbsp;&nbsp;&nbsp; &nbsp;&nbsp;&nbsp;&nbsp;&nbsp;&nbsp;&nbsp;&nbsp;&nbsp; &nbsp;&nbsp;&nbsp;&nbsp;&nbsp;&nbsp;&nbsp;&nbsp;&nbsp; &nbsp;&nbsp;&nbsp;&nbsp;&nbsp;&nbsp;&nbsp;&nbsp;&nbsp; &nbsp;&nbsp;&nbsp;&nbsp;&nbsp;&nbsp;&nbsp;&nbsp;&nbsp; &nbsp;&nbsp;&nbsp;&nbsp;&nbsp;&nbsp;&nbsp;&nbsp;&nbsp; $e_1= \\frac{\\vec u_1}{\\lvert \\lvert \\vec u_1 \\rvert \\rvert}$\n",
        "\n",
        "$\\vec u_2=\\vec v_2 \\ - \\text{proj}_{\\vec u_1} (\\vec v_2)$, &nbsp;&nbsp;&nbsp;&nbsp;&nbsp;&nbsp;&nbsp;&nbsp;&nbsp;&nbsp;&nbsp;&nbsp;&nbsp;&nbsp;&nbsp;&nbsp;&nbsp;&nbsp;&nbsp;&nbsp;&nbsp;&nbsp;&nbsp;&nbsp;&nbsp;&nbsp;&nbsp;&nbsp;&nbsp;&nbsp;&nbsp;&nbsp;&nbsp;&nbsp;&nbsp;&nbsp;&nbsp;&nbsp;&nbsp;&nbsp;&nbsp; $e_2=\\frac{\\vec u_2}{\\lvert \\lvert \\vec u_2 \\rvert \\rvert}$\n",
        "\n",
        "\n",
        "$\\vec u_3=\\vec v_3 \\ - \\text{proj}_{\\vec u_1} (\\vec v_3) - \\text{proj}_{\\vec u_2} (\\vec v_3)$, &nbsp;&nbsp;&nbsp;&nbsp;&nbsp;&nbsp;&nbsp;&nbsp;&nbsp;&nbsp;&nbsp;&nbsp;&nbsp;&nbsp;&nbsp;$e_3=\\frac{\\vec u_3}{\\lvert \\lvert \\vec u_3 \\rvert \\rvert}$\n",
        "\n",
        "&nbsp;&nbsp;&nbsp;&nbsp;&nbsp;&nbsp;&nbsp;&nbsp;$\\vdots$ &nbsp;&nbsp;&nbsp;&nbsp;&nbsp;&nbsp;&nbsp;&nbsp;&nbsp;&nbsp;&nbsp;&nbsp;&nbsp;&nbsp;&nbsp;&nbsp;&nbsp;&nbsp;&nbsp;&nbsp;&nbsp;&nbsp;&nbsp;&nbsp;&nbsp;&nbsp;&nbsp;&nbsp;&nbsp;&nbsp;&nbsp;&nbsp;&nbsp;&nbsp;&nbsp;&nbsp;&nbsp;&nbsp;&nbsp;&nbsp;&nbsp;&nbsp;&nbsp;&nbsp;&nbsp;&nbsp;&nbsp;&nbsp;&nbsp;&nbsp;&nbsp;&nbsp;&nbsp;&nbsp;&nbsp;&nbsp;&nbsp;&nbsp;&nbsp;&nbsp;&nbsp;&nbsp;&nbsp;&nbsp;&nbsp;&nbsp;&nbsp;&nbsp;&nbsp;&nbsp;&nbsp;&nbsp;&nbsp;&nbsp;&nbsp;&nbsp;&nbsp;&nbsp;&nbsp;&nbsp;&nbsp;&nbsp;&nbsp;&nbsp;$\\vdots$\n",
        "\n",
        "$\\vec u_k=\\vec v_k \\ - \\sum_{j=1}^{k=1}\\text{proj}_{\\vec u_j} (\\vec v_k)$,&nbsp;&nbsp;&nbsp;&nbsp;&nbsp;&nbsp;&nbsp;&nbsp;&nbsp;&nbsp;&nbsp;&nbsp;&nbsp;&nbsp;&nbsp;&nbsp;&nbsp;&nbsp;&nbsp;&nbsp;&nbsp;&nbsp;&nbsp;&nbsp;&nbsp;&nbsp;&nbsp;&nbsp;&nbsp;&nbsp;$e_k=\\frac{\\vec u_k}{\\lvert \\lvert \\vec u_k \\rvert \\rvert}$\n",
        "\n",
        "\n"
      ],
      "metadata": {
        "id": "OBrVHxuH_Oa7"
      }
    },
    {
      "cell_type": "code",
      "source": [
        "print (\"Simple Example:\")\n",
        "import numpy as np\n",
        "A = [6]\n",
        "v1 = np.array(A)\n",
        "print (\"Vector A\")\n",
        "print (v1)\n",
        "print (\"R^1 = span of vector A\")\n",
        "print (\"Vector B = Vector A divided by length of Vector A.\")\n",
        "np.linalg.norm(A)\n",
        "mult = v1/np.linalg.norm(A)\n",
        "print (\"Vector B =\", mult)\n",
        "print (\"Vector B is orthonormal.\")"
      ],
      "metadata": {
        "id": "BSRAF1OTd__v",
        "colab": {
          "base_uri": "https://localhost:8080/"
        },
        "outputId": "31563d6c-0ffc-4684-ca22-ff1eae6e56cb"
      },
      "execution_count": 3,
      "outputs": [
        {
          "output_type": "stream",
          "name": "stdout",
          "text": [
            "Simple Example:\n",
            "Vector A\n",
            "[6]\n",
            "R^1 = span of vector A\n",
            "Vector B = Vector A divided by length of Vector A.\n",
            "Vector B = [1.]\n",
            "Vector B is orthonormal.\n"
          ]
        }
      ]
    },
    {
      "cell_type": "markdown",
      "source": [
        "## 1.2.5 - Eigenvlues and Eigenvectors"
      ],
      "metadata": {
        "id": "eMfBffFDujBE"
      }
    },
    {
      "cell_type": "markdown",
      "source": [
        "Definition - eigenvalue\n",
        "\n",
        "Let $T \\in \\mathbb{R}^{d\\times d}$ be a square matrix. A number $λ \\in F$ is called an **eigenvalue** of $T$ if there exists $v \\in V$ such that $v \\neq 0$ and $Tv=λv$."
      ],
      "metadata": {
        "id": "827KWtFPvOR8"
      }
    },
    {
      "cell_type": "markdown",
      "source": [
        "Definition - eigenvector\n",
        "\n",
        "Let $T \\in \\mathbb{R}^{d\\times d}$ be a square matrix and $λ \\in F$ is an eigenvalue of $T$. A vector $v \\in V$ is called an **eigenvector** of $T$ corresponding to $λ$ if $v \\neq 0$ and $T\\vec v=λ\\vec v$."
      ],
      "metadata": {
        "id": "eYqlCoOk0Fi_"
      }
    },
    {
      "cell_type": "markdown",
      "source": [
        "Let $T$ be a square matrix. A non-zero vector $\\vec v$ is an eigenvector for T with eigenvalue $λ$ if\n",
        "\n",
        "\\begin{align}\n",
        "T\\vec v=λ \\vec v\n",
        "\\end{align}"
      ],
      "metadata": {
        "id": "6EYG6HMC18Pb"
      }
    },
    {
      "cell_type": "markdown",
      "source": [
        "Rearranging the equation, we see that $\\vec v$ is a solution of the homogeneous system of equations\n",
        "\n",
        "\\begin{align}\n",
        "(T-λI)\\vec v=0\n",
        "\\end{align}\n",
        "\n",
        "where $I$ is the identity matrix of size $n$. Non-trivial solutions exist only if the matrix **$T-λI$** is singular which means that **$det(T-λI)=0$**. Therefore eigenvalues are roots of the characteristic polynomial\n",
        "\n",
        "\\begin{align}\n",
        "p(λ)=det(T-λI)\n",
        "\\end{align}"
      ],
      "metadata": {
        "id": "NCdVtYPr28sy"
      }
    },
    {
      "cell_type": "code",
      "source": [
        "#  Calculating the eigenvalues and eigenvectors for a square array with the eig function in numpy.linalg\n",
        "from numpy.linalg import eig\n",
        "\n",
        "a = np.array([[0, 2],\n",
        "              [2, 3]])\n",
        "w,v=eig(a)\n",
        "print('The eigenvalues of A are:\\n', w)\n",
        "print('The corresponding eigenvectors are:\\n', v)"
      ],
      "metadata": {
        "colab": {
          "base_uri": "https://localhost:8080/"
        },
        "id": "3gEIk7d_utnT",
        "outputId": "330b9e2c-46ae-45b5-8e7a-015d94f27cbc"
      },
      "execution_count": 4,
      "outputs": [
        {
          "output_type": "stream",
          "name": "stdout",
          "text": [
            "The eigenvalues of A are:\n",
            " [-1.  4.]\n",
            "The corresponding eigenvectors are:\n",
            " [[-0.89442719 -0.4472136 ]\n",
            " [ 0.4472136  -0.89442719]]\n"
          ]
        }
      ]
    },
    {
      "cell_type": "markdown",
      "source": [
        "## Other Important Topics Worth Knowing:\n",
        "\n",
        "- Solving System of Linear Equations\n",
        "- Cramer's Rule\n",
        "- Determinant\n",
        "- QR Factorization\n",
        "- Best Approximation Theorem\n",
        "- Cauchy-Schwartz Inequality\n",
        "- Symmetric Matrices\n",
        "- Constrained Optimization\n",
        "- Linear Transformation\n"
      ],
      "metadata": {
        "id": "De7PidPQ60Gj"
      }
    },
    {
      "cell_type": "markdown",
      "source": [
        "## **References**\n",
        "\n",
        "*   Linear Algebra Done Right - Sheldon Axler\n",
        "*   Python SciPy and NumPy for Linear Algebra - jljudge-gh (GitHub)\n",
        "* Python for Linear Algebra - madonnaojorin (GitHub)\n",
        "\n"
      ],
      "metadata": {
        "id": "H3SVhxCW8aRV"
      }
    }
  ]
}