{
  "nbformat": 4,
  "nbformat_minor": 0,
  "metadata": {
    "colab": {
      "provenance": [],
      "authorship_tag": "ABX9TyONThNWE2kiLmxs6b390cX9",
      "include_colab_link": true
    },
    "kernelspec": {
      "name": "python3",
      "display_name": "Python 3"
    },
    "language_info": {
      "name": "python"
    }
  },
  "cells": [
    {
      "cell_type": "markdown",
      "metadata": {
        "id": "view-in-github",
        "colab_type": "text"
      },
      "source": [
        "<a href=\"https://colab.research.google.com/github/SimonT2003/MAT422/blob/main/HW_3_2_Continuity_and_Differentiation.ipynb\" target=\"_parent\"><img src=\"https://colab.research.google.com/assets/colab-badge.svg\" alt=\"Open In Colab\"/></a>"
      ]
    },
    {
      "cell_type": "markdown",
      "source": [
        "# **Calculus Concepts in Python**"
      ],
      "metadata": {
        "id": "INGN6iEL_397"
      }
    },
    {
      "cell_type": "markdown",
      "source": [
        "## **3.2 - Continuity and Differentiation**"
      ],
      "metadata": {
        "id": "ZqnN8DReAEy_"
      }
    },
    {
      "cell_type": "markdown",
      "source": [
        "### **3.2.1 - Limits and Continuity**"
      ],
      "metadata": {
        "id": "yq6KyIbHAgBG"
      }
    },
    {
      "cell_type": "markdown",
      "source": [
        "Limits are essential to calculus and mathematical analysis, and are used to\n",
        "define continuity, derivatives, and integrals."
      ],
      "metadata": {
        "id": "zSbj-ezXBq4I"
      }
    },
    {
      "cell_type": "markdown",
      "source": [
        "#### **Definition 3.2.1 (Limits of a function)**"
      ],
      "metadata": {
        "id": "IkQ5dlgfB9xV"
      }
    },
    {
      "cell_type": "markdown",
      "source": [
        "Let $f: D → \\mathbb{R}$ be a real-valued function on $D⊆\\mathbb{R}^d$. Then $f$ is said to have a limit $L∈ \\mathbb{R}$ as **$x$** approaches **$a$** if: for any $ϵ>0$, there exists a $δ>0$ such that $|f(x)-L|<ϵ$ for all $x∈D∩B_δ(a)$ \\ {a}. This is written as:\n",
        "\n",
        "\\begin{align}\n",
        "\\lim_{x \\to a} f(x)=L.\n",
        "\\end{align}"
      ],
      "metadata": {
        "id": "JYSy6h19CIe4"
      }
    },
    {
      "cell_type": "markdown",
      "source": [
        "**Example 1**: $\\lim_{x \\to 0} \\frac{sin(x)}{x}$"
      ],
      "metadata": {
        "id": "251H_8vpFO5L"
      }
    },
    {
      "cell_type": "code",
      "execution_count": null,
      "metadata": {
        "colab": {
          "base_uri": "https://localhost:8080/"
        },
        "id": "YyUg5z9n_giO",
        "outputId": "6a52a23e-007c-455e-80d6-7fca67b89406"
      },
      "outputs": [
        {
          "output_type": "stream",
          "name": "stdout",
          "text": [
            "The Limit is: 1\n"
          ]
        }
      ],
      "source": [
        "import sympy as sp\n",
        "x=sp.Symbol('x')\n",
        "f=sp.sin(x)/x\n",
        "L=sp.limit(f,x,0)\n",
        "print(\"The Limit is:\",L)"
      ]
    },
    {
      "cell_type": "markdown",
      "source": [
        "Example 2:  $\\lim_{y \\to 0} \\frac{sin(2y)}{y}$"
      ],
      "metadata": {
        "id": "PRr4jtwE_FfM"
      }
    },
    {
      "cell_type": "code",
      "source": [
        "y=sp.Symbol('y')\n",
        "f=sp.sin(2*y)/y\n",
        "L=sp.limit(f,y,0)\n",
        "print(\"The limit is:\",L)"
      ],
      "metadata": {
        "colab": {
          "base_uri": "https://localhost:8080/"
        },
        "id": "I7gqO6Qm-qBA",
        "outputId": "aff8462a-2260-4c79-f061-cb391ad6e3ba"
      },
      "execution_count": null,
      "outputs": [
        {
          "output_type": "stream",
          "name": "stdout",
          "text": [
            "The limit is: 2\n"
          ]
        }
      ]
    },
    {
      "cell_type": "markdown",
      "source": [
        "#### **Definition 3.2.2 (Continuous function)**"
      ],
      "metadata": {
        "id": "VBA57DHk_PDq"
      }
    },
    {
      "cell_type": "markdown",
      "source": [
        "Let $f: D → \\mathbb{R}$ be a real valued-function on $D⊆\\mathbb{R}^d$. Then $f$ is said to be continuous at $a∈D$ if\n",
        "\n",
        "\\begin{align}\n",
        "\\lim_{x\\to a} f(x) = f(a).\n",
        "\\end{align}"
      ],
      "metadata": {
        "id": "SShHM8w5_tlS"
      }
    },
    {
      "cell_type": "markdown",
      "source": [
        "#### **Lemma 3.2.3 (Composition of Continuous Functions)**"
      ],
      "metadata": {
        "id": "YtNwwwBTA23l"
      }
    },
    {
      "cell_type": "markdown",
      "source": [
        "Let $f: D_1 → \\mathbb{R}^m$, where $D_1⊆\\mathbb{R}^d$, and $g: D_2 → \\mathbb{R}^p$, where $D_2⊆\\mathbb{R}^m$. Assume that $f$ is continuous at $x_0$ and that $g$ is continuous at $f(x_0)$. Then $g∘f$ is continuous at $x_0$."
      ],
      "metadata": {
        "id": "alKRxcD3BDAb"
      }
    },
    {
      "cell_type": "code",
      "source": [
        "# Function to combine two\n",
        "def composite_function(f, g):\n",
        "    return lambda x : f(g(x))\n",
        "\n",
        "# Function to add 2\n",
        "def add(x):\n",
        "    return x + 2\n",
        "\n",
        "# Function to multiply 2\n",
        "def multiply(x):\n",
        "    return x * 2\n",
        "\n",
        "# Composite function returns a lambda function\n",
        "add_multiply = composite_function(multiply, add)\n",
        "\n",
        "print(\"Adding 2 to 5 and multiplying the result with 2: \",\n",
        "      add_multiply(5))"
      ],
      "metadata": {
        "colab": {
          "base_uri": "https://localhost:8080/"
        },
        "id": "YAeDOTr__Vbs",
        "outputId": "054b0f07-e4a7-465c-8f3b-1d7270fc3f4a"
      },
      "execution_count": null,
      "outputs": [
        {
          "output_type": "stream",
          "name": "stdout",
          "text": [
            "Adding 2 to 5 and multiplying the result with 2:  14\n"
          ]
        }
      ]
    },
    {
      "cell_type": "markdown",
      "source": [
        "#### **Definition 3.2.4 (Extremum)**"
      ],
      "metadata": {
        "id": "PpvtTJUvCcYq"
      }
    },
    {
      "cell_type": "markdown",
      "source": [
        "Suppose $f: D →\\mathbb{R}$ is defined on a set $D⊆\\mathbb{R}^d$. We say that $f$ attains a maximum value $M$ at $z^*$ if $f(z^*)=M$ and $M≥f(x)$ for all $x∈D$. Similarily, we say $f$ attains a minimum value $m$ at $z_*$ if $f(z_*)=m$ and $m≤f(x)$ for all $x\\in D$."
      ],
      "metadata": {
        "id": "iaDrqlV8Co_M"
      }
    },
    {
      "cell_type": "markdown",
      "source": [
        "#### **Theorem 3.2.5 (Extreme Value)**"
      ],
      "metadata": {
        "id": "HBz88jwnD7FH"
      }
    },
    {
      "cell_type": "markdown",
      "source": [
        "Let $f: D→\\mathbb{R}$ be a real-valued, continuous function on a nonempty, closed, bounded set $D⊆\\mathbb{R}^d$. Then $f$ attains a maximum and a minimum on $D$."
      ],
      "metadata": {
        "id": "IdZhObVTEKg0"
      }
    },
    {
      "cell_type": "markdown",
      "source": [
        "### **3.2.2 - Derivatives**"
      ],
      "metadata": {
        "id": "AoKRtNJGEtKV"
      }
    },
    {
      "cell_type": "markdown",
      "source": [
        "#### **3.2.2.1 - Single-Variable Case**"
      ],
      "metadata": {
        "id": "wS28KtN60stN"
      }
    },
    {
      "cell_type": "markdown",
      "source": [
        "#### **Definition 3.2.6 (Derivative)**"
      ],
      "metadata": {
        "id": "wW_unVQz00LY"
      }
    },
    {
      "cell_type": "markdown",
      "source": [
        "Let $f: D → \\mathbb{R}$ where $D⊆\\mathbb{R}$ and let $x_0∈D$ be an interior point of $D$. The derivative of $f$ at $x_0$ is\n",
        "\n",
        "\\begin{align}\n",
        "f'(x_0)=\\frac{d}{dx} f(x_0)= \\lim_{h\\to 0} \\frac{f(x_0+h)-f(x_0)}{h}\n",
        "\\end{align}\n",
        "\n",
        "provided the limit exists."
      ],
      "metadata": {
        "id": "s693eMwm1Af8"
      }
    },
    {
      "cell_type": "markdown",
      "source": [
        "Example 3: $f(x)=sin(x)+x^2+e^{4x}$"
      ],
      "metadata": {
        "id": "MQzaJ8dd2B0Z"
      }
    },
    {
      "cell_type": "code",
      "source": [
        "import sympy as sp\n",
        "x=sp.Symbol('x')\n",
        "f=sp.sin(x)+x**2+sp.exp(4*x)\n",
        "print(f)\n",
        "df=sp.diff(f,x)\n",
        "print(df)\n",
        "ddf=sp.diff(f,x,2)\n",
        "print(ddf)"
      ],
      "metadata": {
        "id": "N35X0T_HCgp-",
        "colab": {
          "base_uri": "https://localhost:8080/"
        },
        "outputId": "7996ce80-d597-462d-df06-e5a8cdfa9906"
      },
      "execution_count": 1,
      "outputs": [
        {
          "output_type": "stream",
          "name": "stdout",
          "text": [
            "x**2 + exp(4*x) + sin(x)\n",
            "2*x + 4*exp(4*x) + cos(x)\n",
            "16*exp(4*x) - sin(x) + 2\n"
          ]
        }
      ]
    },
    {
      "cell_type": "markdown",
      "source": [
        "Example 4: $f(y)=cos(y)+4y^2+y^3$"
      ],
      "metadata": {
        "id": "UmHUG9uc3Hot"
      }
    },
    {
      "cell_type": "code",
      "source": [
        "y=sp.Symbol('y')\n",
        "f=sp.cos(y)+4*y+y**3\n",
        "print(f)\n",
        "df=sp.diff(f,y)\n",
        "print(df)"
      ],
      "metadata": {
        "colab": {
          "base_uri": "https://localhost:8080/"
        },
        "id": "9gOmmNGK3QQQ",
        "outputId": "7052242b-f9d9-48aa-be26-6ef2f74a923b"
      },
      "execution_count": 2,
      "outputs": [
        {
          "output_type": "stream",
          "name": "stdout",
          "text": [
            "y**3 + 4*y + cos(y)\n",
            "3*y**2 - sin(y) + 4\n"
          ]
        }
      ]
    },
    {
      "cell_type": "markdown",
      "source": [
        "#### **Proposition 3.2.7**"
      ],
      "metadata": {
        "id": "DeA4djWD4Jck"
      }
    },
    {
      "cell_type": "markdown",
      "source": [
        "Let $f$ and $g$ have derivatives at $x$ and let $α$ and $β$ be constants. The following results hold\n",
        "\n",
        "\\begin{align}\n",
        "[αf(x)+βg(x)]'=αf'(x)+βg'(x)\n",
        "\\end{align}"
      ],
      "metadata": {
        "id": "jgVXVAJh4Q_E"
      }
    },
    {
      "cell_type": "markdown",
      "source": [
        "#### **Lemma 3.2.8**"
      ],
      "metadata": {
        "id": "dSGMDbYw5dTi"
      }
    },
    {
      "cell_type": "markdown",
      "source": [
        "Let $f : D \\to\\mathbb{R}$ with $D \\subseteq \\mathbb{R}$ and let $x_0 \\in D$ be an interior point of $D$ where $f'(x_0)$ exists. If $f'(x_0)>0$, then there is an open ball $B_\\delta(x_0) \\subseteq D$ around $x_0$ such that for each $x$ in $B_\\delta(x_0):$\n",
        "$$(a) f(x) > f(x_0) \\text{ if } x > x0,$$\n",
        "$$(b) f(x) < f(x_0) if x < x_0.$$\n",
        "\n",
        "If instead $ f'(x_0) < 0$, the opposite holds."
      ],
      "metadata": {
        "id": "-YS9sYAu5eyd"
      }
    },
    {
      "cell_type": "markdown",
      "source": [
        "#### **Theorem 3.2.9 (Rolle)**"
      ],
      "metadata": {
        "id": "RVYQsSl06Fd-"
      }
    },
    {
      "cell_type": "markdown",
      "source": [
        "Let $f : [a,b] \\to\\mathbb{R}$ be a continuous function and assume\n",
        "that its derivative exists on $(a,b)$. If $f(a) = f(b)$ then there is $a < c < b$ such that $f'(c) = 0$."
      ],
      "metadata": {
        "id": "7xQfmJ-S6NBO"
      }
    },
    {
      "cell_type": "markdown",
      "source": [
        "#### **Rolle's Theorem**"
      ],
      "metadata": {
        "id": "5huH9KTv6Wq7"
      }
    },
    {
      "cell_type": "markdown",
      "source": [
        "Illustrate the geometric meaning of Rolle's Theorem of the following:<br>\n",
        "$f(x)=x^3-4x$ for $[-2,2]$"
      ],
      "metadata": {
        "id": "zjNRlrpA6aWp"
      }
    },
    {
      "cell_type": "code",
      "source": [
        "from sympy import *\n",
        "from random import randrange\n",
        "import cmath\n",
        "x,y,z=symbols('x y z')\n",
        "init_printing(use_unicode=True)\n",
        "flagcontinuity = False\n",
        "flagdifferentiability = False\n",
        "flagequality = False\n",
        "def h(x):\n",
        "  expr = x**3-4*x\n",
        "  return expr\n",
        "print(h(x))\n",
        "plot(h(x),(x,-2,2))"
      ],
      "metadata": {
        "colab": {
          "base_uri": "https://localhost:8080/",
          "height": 522
        },
        "id": "GSKKNQNH4P5m",
        "outputId": "4d012ea0-1d89-4346-c69f-ed31383c371d"
      },
      "execution_count": 3,
      "outputs": [
        {
          "output_type": "stream",
          "name": "stdout",
          "text": [
            "x**3 - 4*x\n"
          ]
        },
        {
          "output_type": "display_data",
          "data": {
            "text/plain": [
              "<Figure size 640x480 with 1 Axes>"
            ],
            "image/png": "[encoded data removed]"
          },
          "metadata": {}
        },
        {
          "output_type": "execute_result",
          "data": {
            "text/plain": [
              "<sympy.plotting.plot.Plot at 0x785b9dc2d4b0>"
            ]
          },
          "metadata": {},
          "execution_count": 3
        }
      ]
    },
    {
      "cell_type": "code",
      "source": [
        "lnhdlimit_pos=limit(h(x),x,-2,'+')\n",
        "lnhdlimit_neg=limit(h(x),x,-2,'-')\n",
        "print(lnhdlimit_pos)\n",
        "print(lnhdlimit_neg)\n",
        "rnhdlimit_pos=limit(h(x),x,-2,'+')\n",
        "rnhdlimit_neg=limit(h(x),x,-2,'-')\n",
        "print(rnhdlimit_pos)\n",
        "print(rnhdlimit_neg)\n",
        "if (lnhdlimit_pos==lnhdlimit_neg) and (lnhdlimit_neg==h(-2)) and (rnhdlimit_pos==rnhdlimit_neg) and (rnhdlimit_neg==h(2)):\n",
        "  print('function is continuous')\n",
        "else:\n",
        "    print('function is discontinuous')\n",
        "    flagcontinuity=True"
      ],
      "metadata": {
        "colab": {
          "base_uri": "https://localhost:8080/"
        },
        "id": "cDe7pw3p7A8v",
        "outputId": "b14c19ff-978b-40d7-a35b-8074cc18487a"
      },
      "execution_count": 4,
      "outputs": [
        {
          "output_type": "stream",
          "name": "stdout",
          "text": [
            "0\n",
            "0\n",
            "0\n",
            "0\n",
            "function is continuous\n"
          ]
        }
      ]
    },
    {
      "cell_type": "code",
      "source": [
        "for i in range(0,1):\n",
        "  j = randrange(-2,2)\n",
        "  difflnhd = diff(limit(h(x),x,j,'+'))\n",
        "  diffrnhd = diff(limit(h(x),x,j,'-'))\n",
        "print(difflnhd)\n",
        "print(diffrnhd)\n",
        "if (difflnhd==diffrnhd):\n",
        "  print('function is differentiable')\n",
        "else:\n",
        "  print('function is not differentiable')\n",
        "  flagdifferentiability=True"
      ],
      "metadata": {
        "colab": {
          "base_uri": "https://localhost:8080/"
        },
        "id": "0XHFMlj_7EN4",
        "outputId": "d50bdb5f-31d8-42c5-e5ca-c32af8a1bcfc"
      },
      "execution_count": 5,
      "outputs": [
        {
          "output_type": "stream",
          "name": "stdout",
          "text": [
            "0\n",
            "0\n",
            "function is differentiable\n"
          ]
        }
      ]
    },
    {
      "cell_type": "code",
      "source": [
        "r1=h(-2)\n",
        "r2=h(2)\n",
        "if (r1==r2):\n",
        "  print('f(a)=f(b)')\n",
        "else:\n",
        "  print('f(a)!=f(b)')\n",
        "  flagequality=True"
      ],
      "metadata": {
        "colab": {
          "base_uri": "https://localhost:8080/"
        },
        "id": "lydt9EKs7G8R",
        "outputId": "d6d64d34-4a2f-48b3-f0f1-039717b10139"
      },
      "execution_count": 6,
      "outputs": [
        {
          "output_type": "stream",
          "name": "stdout",
          "text": [
            "f(a)=f(b)\n"
          ]
        }
      ]
    },
    {
      "cell_type": "code",
      "source": [
        "if (flagcontinuity==True) or (flagdifferentiability==True) or (flagequality==True):\n",
        "  print('all conditions of rolles theorem is not satisfied')\n",
        "else:\n",
        "    print('all conditions of rolles theorem is satisfied')\n",
        "d1=diff(h(x),x)\n",
        "print('derivative of h(x) is', d1)\n",
        "print('There exist some constant c')\n",
        "a = int(input())\n",
        "b = int(input())\n",
        "c = int(input())\n",
        "disc = b**2-4*a*c\n",
        "root1=-b+cmath.sqrt(disc)/(2*a)\n",
        "root2=-b-cmath.sqrt(disc)/(2*a)\n",
        "print('The derivative of equation are {0} and {1}'.format(root1,root2),'where derivative is zero')\n",
        "plot(h(x),(x,-2,2),root1,root2)"
      ],
      "metadata": {
        "colab": {
          "base_uri": "https://localhost:8080/",
          "height": 626
        },
        "id": "jchHibrP7Idj",
        "outputId": "455c8501-fc6b-4acb-ac3d-4b5c30f3defa"
      },
      "execution_count": 7,
      "outputs": [
        {
          "output_type": "stream",
          "name": "stdout",
          "text": [
            "all conditions of rolles theorem is satisfied\n",
            "derivative of h(x) is 3*x**2 - 4\n",
            "There exist some constant c\n",
            "2\n",
            "4\n",
            "5\n",
            "The derivative of equation are (-4+1.224744871391589j) and (-4-1.224744871391589j) where derivative is zero\n"
          ]
        },
        {
          "output_type": "display_data",
          "data": {
            "text/plain": [
              "<Figure size 640x480 with 1 Axes>"
            ],
            "image/png": "[encoded data removed]"
          },
          "metadata": {}
        },
        {
          "output_type": "execute_result",
          "data": {
            "text/plain": [
              "<sympy.plotting.plot.Plot at 0x785b80cabfd0>"
            ]
          },
          "metadata": {},
          "execution_count": 7
        }
      ]
    },
    {
      "cell_type": "markdown",
      "source": [
        "#### **Theorem 3.2.10 (Mean Value)**"
      ],
      "metadata": {
        "id": "DUO5yHng7WcV"
      }
    },
    {
      "cell_type": "markdown",
      "source": [
        "Let $f : [a,b] \\to\\mathbb{ R}$ be a continuous function and\n",
        "assume that its derivative exists on $(a,b)$. Then there is $a < c < b$ such that\n",
        "$$f(b) = f(a) + (b−a)f'(c),$$\n",
        "or put differently\n",
        "$$\\frac{f(b)− f(a)}{b−a}= f'(c).$$"
      ],
      "metadata": {
        "id": "Uv6Td9Vk7blq"
      }
    },
    {
      "cell_type": "code",
      "source": [
        "from mpmath import*\n",
        "from sympy import*\n",
        "import random\n",
        "import cmath\n",
        "x,y,z,a,b,c=symbols('x y z a b c')\n",
        "init_printing(use_unicode=True)\n",
        "flagcontinuity=False\n",
        "flagdifferentiability=False\n",
        "def h(x):\n",
        "  expr=x*(x-1)*(x-2)\n",
        "  return expr\n",
        "print(h(x))\n",
        "plot(h(x),(x,0,1/2))"
      ],
      "metadata": {
        "colab": {
          "base_uri": "https://localhost:8080/",
          "height": 519
        },
        "id": "GI4aAAQ_7bA6",
        "outputId": "e6244d99-d0f6-4a72-977b-83a017a78d16"
      },
      "execution_count": 8,
      "outputs": [
        {
          "output_type": "stream",
          "name": "stdout",
          "text": [
            "x*(x - 2)*(x - 1)\n"
          ]
        },
        {
          "output_type": "display_data",
          "data": {
            "text/plain": [
              "<Figure size 640x480 with 1 Axes>"
            ],
            "image/png": "[encoded data removed]"
          },
          "metadata": {}
        },
        {
          "output_type": "execute_result",
          "data": {
            "text/plain": [
              "<sympy.plotting.plot.Plot at 0x785b9dbdfa90>"
            ]
          },
          "metadata": {},
          "execution_count": 8
        }
      ]
    },
    {
      "cell_type": "code",
      "source": [
        "lnhdlimit_pos=limit(h(x),x,0,'+')\n",
        "lnhdlimit_neg=limit(h(x),x,0,'-')\n",
        "print(lnhdlimit_pos)\n",
        "print(lnhdlimit_neg)\n",
        "rnhdlimit_pos=limit(h(x),x,1/2,'+')\n",
        "rnhdlimit_neg=limit(h(x),x,1/2,'-')\n",
        "print(rnhdlimit_pos)\n",
        "print(rnhdlimit_neg)\n",
        "if (lnhdlimit_pos==lnhdlimit_neg) and (lnhdlimit_neg==h(0)) and (rnhdlimit_pos==rnhdlimit_neg) and (rnhdlimit_neg==h(1/2)):\n",
        "  print('function is continuous')\n",
        "else:\n",
        "    print('function is discontinuous')\n",
        "    flagcontinuity=True"
      ],
      "metadata": {
        "colab": {
          "base_uri": "https://localhost:8080/"
        },
        "id": "HpQs-9c372sE",
        "outputId": "980cd6bb-113b-424a-faf8-e95f80c46937"
      },
      "execution_count": 9,
      "outputs": [
        {
          "output_type": "stream",
          "name": "stdout",
          "text": [
            "0\n",
            "0\n",
            "0.375000000000000\n",
            "0.375000000000000\n",
            "function is continuous\n"
          ]
        }
      ]
    },
    {
      "cell_type": "code",
      "source": [
        "for i in range(0,1):\n",
        "  j = random.uniform(0,1/2)\n",
        "  difflnhd = diff(limit(h(x),x,j,'+'))\n",
        "  diffrnhd = diff(limit(h(x),x,j,'-'))\n",
        "print(difflnhd)\n",
        "print(diffrnhd)\n",
        "if (difflnhd==diffrnhd):\n",
        "  print('function is differentiable')\n",
        "else:\n",
        "  print('function is not differentiable')\n",
        "  flagdifferentiability=True"
      ],
      "metadata": {
        "colab": {
          "base_uri": "https://localhost:8080/"
        },
        "id": "089DcM317-X6",
        "outputId": "f3714d7a-2da5-4429-c7a7-c863cf676baf"
      },
      "execution_count": 10,
      "outputs": [
        {
          "output_type": "stream",
          "name": "stdout",
          "text": [
            "0\n",
            "0\n",
            "function is differentiable\n"
          ]
        }
      ]
    },
    {
      "cell_type": "code",
      "source": [
        "if (flagcontinuity==True) or (flagdifferentiability==True):\n",
        "  print('Lagrange Theorem is not applicable')\n",
        "else:\n",
        "    print('Lagrange Theorem is applicable')\n",
        "d2=diff(h(x),x)\n",
        "print('derivative of h(x) is', d2)\n",
        "print('There exist some constant c')\n",
        "a = float(int(input()))\n",
        "b = float(int(input()))\n",
        "ratio = (h(b)-h(a))/(b-1)\n",
        "print(ratio)\n",
        "rd=round(ratio,2)\n",
        "print('Round value of ratio at two decimal points',rd)\n",
        "print(diff(h(c),c),'=',rd)\n",
        "z=diff(h(c),c)\n",
        "simplify(diff(h(c),c))\n",
        "print(solve((c*(c-2)+c*(c-1)+(c-2)*(c-1)-rd),c))\n",
        "ar=solve((c*(c-2)+c*(c-1)+(c-2)*(c-1)-rd),c)\n",
        "print('value of c is', ar)\n",
        "print('It lies between a and b',a,b)\n",
        "plot(h(x),(x,0,1/2),ar[0],ar[1])"
      ],
      "metadata": {
        "colab": {
          "base_uri": "https://localhost:8080/",
          "height": 695
        },
        "id": "XLi_MJk98Bbg",
        "outputId": "c5e75d81-e2f5-440d-872f-48e0fc6a4d75"
      },
      "execution_count": 11,
      "outputs": [
        {
          "output_type": "stream",
          "name": "stdout",
          "text": [
            "Lagrange Theorem is applicable\n",
            "derivative of h(x) is x*(x - 2) + x*(x - 1) + (x - 2)*(x - 1)\n",
            "There exist some constant c\n",
            "4\n",
            "20\n",
            "358.7368421052632\n",
            "Round value of ratio at two decimal points 358.74\n",
            "c*(c - 2) + c*(c - 1) + (c - 2)*(c - 1) = 358.74\n",
            "[-9.95049466158188, 11.9504946615819]\n",
            "value of c is [-9.95049466158188, 11.9504946615819]\n",
            "It lies between a and b 4.0 20.0\n"
          ]
        },
        {
          "output_type": "display_data",
          "data": {
            "text/plain": [
              "<Figure size 640x480 with 1 Axes>"
            ],
            "image/png": "[encoded data removed]"
          },
          "metadata": {}
        },
        {
          "output_type": "execute_result",
          "data": {
            "text/plain": [
              "<sympy.plotting.plot.Plot at 0x785b80740be0>"
            ]
          },
          "metadata": {},
          "execution_count": 11
        }
      ]
    },
    {
      "cell_type": "markdown",
      "source": [
        "#### **3.2.2.2 General Case**"
      ],
      "metadata": {
        "id": "bfvmbsCu8Mci"
      }
    },
    {
      "cell_type": "markdown",
      "source": [
        "#### **Definition 3.2.11 (Partial Derivative)**"
      ],
      "metadata": {
        "id": "zuYn1kzs8UZQ"
      }
    },
    {
      "cell_type": "markdown",
      "source": [
        "Let $f : D \\to\\mathbb{ R}$ where $D \\subseteq \\mathbb{R}^d$\n",
        " and let $\\textbf{x}_0 \\in D$ be an interior point of $D$. The partial derivative of f at $\\textbf{x}_0$ with respect o $x_i$ is\n",
        "$$\\frac{\\partial f(\\textbf{x}_0)}{\\partial x_i} = \\lim_{h\\to 0}\\frac{f(\\textbf{x}_0 +h\\textbf{e}_i)− f(\\textbf{x}_0)}{h}$$\n",
        "provided the limit exists. If $\\frac{\\partial f(\\textbf{x}_0)}{\\partial x_i} $ exists and is continuous in an open ball around $\\textbf{x}_0$ for all $i$, then we say that $f$ continuously differentiable at $\\textbf{x}_0$.\n"
      ],
      "metadata": {
        "id": "jtvwYr8l8b1b"
      }
    },
    {
      "cell_type": "code",
      "source": [
        "from sympy import Symbol, Derivative\n",
        "\n",
        "x= Symbol('x')\n",
        "\n",
        "y= Symbol('y')\n",
        "\n",
        "function= x**2 * y**3 + 12*y**4\n",
        "\n",
        "partialderiv= Derivative(function, y)\n",
        "partialderiv.doit()"
      ],
      "metadata": {
        "colab": {
          "base_uri": "https://localhost:8080/",
          "height": 39
        },
        "id": "Pg1uSLCj8STO",
        "outputId": "778937dc-678a-4b90-b0d8-97a2454b68ed"
      },
      "execution_count": 12,
      "outputs": [
        {
          "output_type": "execute_result",
          "data": {
            "text/plain": [
              "   2  2       3\n",
              "3⋅x ⋅y  + 48⋅y "
            ],
            "text/latex": "$\\displaystyle 3 x^{2} y^{2} + 48 y^{3}$"
          },
          "metadata": {},
          "execution_count": 12
        }
      ]
    },
    {
      "cell_type": "markdown",
      "source": [
        "#### **Definition 3.2.12 (Jacobian)**"
      ],
      "metadata": {
        "id": "G7-aZ2Du89xu"
      }
    },
    {
      "cell_type": "markdown",
      "source": [
        "Let $\\textbf{f} = (f_1,\\cdots, f_m) : D \\to \\mathbb{R}^m$ where $D \\subseteq \\mathbb{R}^d$ and let $\\textbf{x}_0 \\in D$ be an interior point of $D$ where $\\frac{\\partial f(\\textbf{x}_0)}{\\partial x_i} $ exists for all $i, j$.\n",
        "The Jacobian of $\\textbf{f}$ at $\\textbf{x}_0$ is the $d \\times m$ matrix\n",
        "$$\\textbf{J}_\\textbf{f}(\\textbf{x}_0) = \\begin{pmatrix}\n",
        "\\frac{\\partial f_1(\\textbf{x}_0)}{\\partial x_1} &\\cdots &\\frac{\\partial f_1(\\textbf{x}_0)}{\\partial x_d}\\\\\n",
        "\\vdots&\\vdots&\\vdots\\\\\n",
        "\\frac{\\partial f_m(\\textbf{x}_0)}{\\partial x_1} &\\cdots&\\frac{\\partial f_m(\\textbf{x}_0)}{\\partial x_d}\n",
        "\\end{pmatrix}$$\n",
        "For a real-valued function $f : D \\to \\mathbb{R}$, the Jacobian reduces to the row vector $\\textbf{J}_f(\\textbf{x}_0) = \\nabla f(\\textbf{x}_0)^T$ where the vector $$\\nabla f(\\textbf{x}_0)=\\left(\\frac{\\partial f(\\textbf{x}_0)}{\\partial x_i} ,\\cdots,\\frac{\\partial f(\\textbf{x}_0)}{\\partial x_d} \\right)^T$$\n",
        "is the gradient of $f$ at $\\textbf{x}_0$."
      ],
      "metadata": {
        "id": "GdsiPnHq9FjT"
      }
    },
    {
      "cell_type": "code",
      "source": [
        "import autograd.numpy as np\n",
        "from autograd import grad, jacobian\n",
        "\n",
        "x = np.array([5,3], dtype=float)\n",
        "\n",
        "def cost(x):\n",
        "    return x[0]**2 / x[1] - np.log(x[1])\n",
        "\n",
        "gradient_cost = grad(cost)\n",
        "jacobian_cost = jacobian(cost)\n",
        "\n",
        "gradient_cost(x)\n",
        "jacobian_cost(np.array([x,x,x]))"
      ],
      "metadata": {
        "colab": {
          "base_uri": "https://localhost:8080/"
        },
        "id": "67GS8SLl9EIu",
        "outputId": "9b7e2f8d-27dd-41d8-c566-e07c054cd5e6"
      },
      "execution_count": 13,
      "outputs": [
        {
          "output_type": "execute_result",
          "data": {
            "text/plain": [
              "array([[[ 2.        ,  0.        ],\n",
              "        [-1.2       ,  0.        ],\n",
              "        [ 0.        ,  0.        ]],\n",
              "\n",
              "       [[ 0.        ,  2.        ],\n",
              "        [ 0.        , -1.33333333],\n",
              "        [ 0.        ,  0.        ]]])"
            ]
          },
          "metadata": {},
          "execution_count": 13
        }
      ]
    },
    {
      "cell_type": "code",
      "source": [
        "from sympy import sin, cos, Matrix\n",
        "from sympy.abc import rho, phi\n",
        "\n",
        "X = Matrix([rho*cos(phi), rho*sin(phi), rho**2])\n",
        "Y = Matrix([rho, phi])\n",
        "\n",
        "X.jacobian(Y)"
      ],
      "metadata": {
        "colab": {
          "base_uri": "https://localhost:8080/",
          "height": 78
        },
        "id": "h3INBTo09YXu",
        "outputId": "7bd67511-f667-42a9-95ab-c0ddaf302c87"
      },
      "execution_count": 14,
      "outputs": [
        {
          "output_type": "execute_result",
          "data": {
            "text/plain": [
              "⎡cos(φ)  -ρ⋅sin(φ)⎤\n",
              "⎢                 ⎥\n",
              "⎢sin(φ)  ρ⋅cos(φ) ⎥\n",
              "⎢                 ⎥\n",
              "⎣ 2⋅ρ        0    ⎦"
            ],
            "text/latex": "$\\displaystyle \\left[\\begin{matrix}\\cos{\\left(\\phi \\right)} & - \\rho \\sin{\\left(\\phi \\right)}\\\\\\sin{\\left(\\phi \\right)} & \\rho \\cos{\\left(\\phi \\right)}\\\\2 \\rho & 0\\end{matrix}\\right]$"
          },
          "metadata": {},
          "execution_count": 14
        }
      ]
    },
    {
      "cell_type": "markdown",
      "source": [
        "#### **Theorem 3.2.15 (Chain Rule)**"
      ],
      "metadata": {
        "id": "DXIe4hGa9bvV"
      }
    },
    {
      "cell_type": "markdown",
      "source": [
        "Let $\\textbf{f} : D_1 \\to\\mathbb{ R}^m$, where $D_1 \\subseteq \\mathbb{R}^d$, and let $\\textbf{g} : D_2 \\to\\mathbb{ R}^p$, where $D_2 \\subseteq\\mathbb{R}^m$. Assume that $\\textbf{f}$ is continuously differentiable at $\\textbf{x}_0$, an interior point of $D_1$, and that $\\textbf{g}$ is continuously differentiable at $\\textbf{f}(\\textbf{x}_0)$, an\n",
        "interior point of $D_2$. Then\n",
        "$$\\textbf{J}_{\\textbf{g}\\circ \\textbf{f}}(\\textbf{x}_0) = \\textbf{J}_\\textbf{g}(\\textbf{f}(\\textbf{x}_0))\\textbf{J}_\\textbf{f}(\\textbf{x}_0)$$\n",
        "as a product of matrices."
      ],
      "metadata": {
        "id": "IX77ITco9gRm"
      }
    },
    {
      "cell_type": "markdown",
      "source": [
        "#### **3.2.2.3 Further Derivatives**"
      ],
      "metadata": {
        "id": "EMalwk2w9m0d"
      }
    },
    {
      "cell_type": "markdown",
      "source": [
        "#### **Definition 3.2.16 (Directional Derivative)**"
      ],
      "metadata": {
        "id": "EGos4M2G9t3K"
      }
    },
    {
      "cell_type": "markdown",
      "source": [
        "Let $f : D \\to \\mathbb{R}$ where $D \\subseteq \\mathbb{R}^d$, let\n",
        "$\\textbf{x}_0 \\in D$ be an interior point of $D$ and let $\\textbf{v} \\in \\mathbb{R}^d$  be a unit vector. The directional\n",
        "derivative of $f$ at $\\textbf{x}_0$ in the direction $\\textbf{v}$ is\n",
        "$$\\frac{\\partial f(\\textbf{x}_0)}{\\partial \\textbf{v}}=\\lim_{h\\to 0}\\frac{f(\\textbf{x}_0+h\\textbf{v})-f(\\textbf{x}_0)}{h} $$\n",
        "provided the limit exists."
      ],
      "metadata": {
        "id": "4SlkGGuR96hh"
      }
    },
    {
      "cell_type": "markdown",
      "source": [
        "#### **Theorem 3.2.17 (Directional Derivative from Gradient)**\n"
      ],
      "metadata": {
        "id": "QY5KVhyS-CWp"
      }
    },
    {
      "cell_type": "markdown",
      "source": [
        "Let $f : D \\to\\mathbb{ R}$ where $D \\subseteq \\mathbb{R}^d$, let $\\textbf{x}_0 \\in D$ be an interior point of $D$ and let $\\textbf{v }\\in \\mathbb{R}^d$ be a unit vector. Assume that $f$ is continuously differentiable at $\\textbf{x}_0$. Then the directional derivative of $f$ at $\\textbf{x}_0$ in the direction $\\textbf{v}$ is given by\n",
        "$$\\frac{\\partial f(\\textbf{x}_0)}{\\partial \\textbf{v}} =\\textbf{J}_f(\\textbf{x}_0)\\textbf{v}=\\nabla f(\\textbf{x}_0)^T \\textbf{v}.$$"
      ],
      "metadata": {
        "id": "CCNZ6fGE-Gle"
      }
    },
    {
      "cell_type": "markdown",
      "source": [
        "#### **Definition 3.2.18 (Second Partial Derivatives and Hessian)**"
      ],
      "metadata": {
        "id": "MPXAHjHY-MaI"
      }
    },
    {
      "cell_type": "markdown",
      "source": [
        "Let $f : D\\to\\mathbb{R}$ where $D \\subseteq \\mathbb{R}^d$  and let $\\textbf{x}_0 \\in D$ be an interior point of $D$. Assume that $f$ is continuously differentiable in an open ball around $\\textbf{x}_0$. Then $\\frac{\\partial f(\\textbf{x}_0)}{\\partial x_i} $\n",
        "is itself a function of $\\textbf{x}$ and its partial derivative with respect to $x_j$, if it exists, is denoted by\n",
        "$$\\frac{\\partial^2 f(\\textbf{x}_0)}{\\partial x_j\\partial x_i} =\\lim_{h\\to 0}\\frac{\\partial f(\\textbf{x}_0+h\\textbf{e}_j)/\\partial x_i-\\partial f(\\textbf{x}_0)/\\partial x_i}{h}.$$"
      ],
      "metadata": {
        "id": "LIEL7Wpf-PMR"
      }
    },
    {
      "cell_type": "markdown",
      "source": [
        "#### **Theorem 3.2.19 (Symmetry of the Hessian)**\n"
      ],
      "metadata": {
        "id": "vWaAv0ZP-qxf"
      }
    },
    {
      "cell_type": "markdown",
      "source": [
        "Let $f : D \\to\\mathbb{ R}$ where $D \\subseteq \\mathbb{R}^d$ and\n",
        "let $\\textbf{x}_0 \\in D$ be an interior point of $D$. Assume that $f$ is twice continuously differentiable at $\\textbf{x}_0$. Then for all $i \\neq j$\n",
        "$$\\frac{\\partial^2 f(\\textbf{x}_0)}{\\partial x_j\\partial x_i} =\\frac{\\partial^2 f(\\textbf{x}_0)}{\\partial x_i\\partial x_j}. $$"
      ],
      "metadata": {
        "id": "cznpXyVw-tkw"
      }
    },
    {
      "cell_type": "code",
      "source": [
        "!pip install algopy"
      ],
      "metadata": {
        "colab": {
          "base_uri": "https://localhost:8080/"
        },
        "id": "k1F7irHt9bB2",
        "outputId": "6347e4c7-d942-4dea-de40-655a67c796e5"
      },
      "execution_count": 15,
      "outputs": [
        {
          "output_type": "stream",
          "name": "stdout",
          "text": [
            "Collecting algopy\n",
            "  Downloading algopy-0.5.7.zip (189 kB)\n",
            "\u001b[?25l     \u001b[90m━━━━━━━━━━━━━━━━━━━━━━━━━━━━━━━━━━━━━━━━\u001b[0m \u001b[32m0.0/189.5 kB\u001b[0m \u001b[31m?\u001b[0m eta \u001b[36m-:--:--\u001b[0m\r\u001b[2K     \u001b[91m━━━━━━━━━━━━━━━━━━━━━━━━━━━━━━━━━━━━━\u001b[0m\u001b[91m╸\u001b[0m\u001b[90m━\u001b[0m \u001b[32m184.3/189.5 kB\u001b[0m \u001b[31m6.2 MB/s\u001b[0m eta \u001b[36m0:00:01\u001b[0m\r\u001b[2K     \u001b[90m━━━━━━━━━━━━━━━━━━━━━━━━━━━━━━━━━━━━━━━\u001b[0m \u001b[32m189.5/189.5 kB\u001b[0m \u001b[31m4.9 MB/s\u001b[0m eta \u001b[36m0:00:00\u001b[0m\n",
            "\u001b[?25h  Preparing metadata (setup.py) ... \u001b[?25l\u001b[?25hdone\n",
            "Building wheels for collected packages: algopy\n",
            "  Building wheel for algopy (setup.py) ... \u001b[?25l\u001b[?25hdone\n",
            "  Created wheel for algopy: filename=algopy-0.5.7-py3-none-any.whl size=107608 sha256=0a15db821c660d7d868a015966f137013bf35c82d81da9709211b9f9d70321cf\n",
            "  Stored in directory: /root/.cache/pip/wheels/06/0d/9b/846484b1591373afd5d8a7756094675963a738328b5fac8543\n",
            "Successfully built algopy\n",
            "Installing collected packages: algopy\n",
            "Successfully installed algopy-0.5.7\n"
          ]
        }
      ]
    },
    {
      "cell_type": "code",
      "source": [
        "import numpy, algopy\n",
        "from algopy import UTPM, exp\n",
        "\n",
        "def eval_f(x):\n",
        "  return x[0]*x[1]*x[2] + exp(x[0])*x[1]\n",
        "\n",
        "# forward mode without building the computational graph\n",
        "# -----------------------------------------------------\n",
        "x = UTPM.init_jacobian([3,5,7])\n",
        "y = eval_f(x)\n",
        "algopy_jacobian = UTPM.extract_jacobian(y)\n",
        "print('jacobian = ',algopy_jacobian)\n",
        "\n",
        "# reverse mode using a computational graph\n",
        "# ----------------------------------------\n",
        "\n",
        "# STEP 1: trace the function evaluation\n",
        "cg = algopy.CGraph()\n",
        "x = algopy.Function([1,2,3])\n",
        "y = eval_f(x)\n",
        "cg.trace_off()\n",
        "cg.independentFunctionList = [x]\n",
        "cg.dependentFunctionList = [y]\n",
        "\n",
        "# STEP 2: use the computational graph to evaluate derivatives\n",
        "print('gradient =', cg.gradient([3.,5,7]))\n",
        "print('Jacobian =', cg.jacobian([3.,5,7]))\n",
        "print('Hessian =', cg.hessian([3.,5.,7.]))\n",
        "print('Hessian vector product =', cg.hess_vec([3.,5.,7.],[4,5,6]))"
      ],
      "metadata": {
        "colab": {
          "base_uri": "https://localhost:8080/"
        },
        "id": "kBPqqBMr-_rz",
        "outputId": "42cc5a22-ef31-467a-fc74-6bae888cf4cf"
      },
      "execution_count": 16,
      "outputs": [
        {
          "output_type": "stream",
          "name": "stdout",
          "text": [
            "jacobian =  [135.42768462  41.08553692  15.        ]\n",
            "gradient = [array([135.42768462,  41.08553692,  15.        ])]\n",
            "Jacobian = [[135.42768462  41.08553692  15.        ]]\n",
            "Hessian = [[100.42768462  27.08553692   5.        ]\n",
            " [ 27.08553692   0.           3.        ]\n",
            " [  5.           3.           0.        ]]\n",
            "Hessian vector product = [567.13842308 126.34214769  35.        ]\n"
          ]
        }
      ]
    },
    {
      "cell_type": "markdown",
      "source": [
        "### **3.2.3 Taylor’s theorem**\n"
      ],
      "metadata": {
        "id": "fe8IXkYG_Fth"
      }
    },
    {
      "cell_type": "markdown",
      "source": [
        "Let $f : D \\to\\mathbb{ R}$ where $D \\subseteq \\mathbb{R}$. Suppose $f$ has a $m$ times continuous derivative on $[a,b]$. Then\n",
        "$$f(b) = f(a) + (b−a)f'(a)+\\frac{1}{2}(b-a)^2f''(a)+\\cdots +\\frac{(b-a)^{m-1}}{(m-1)!}f^{(m-1)}(a)+\\textbf{R}_m$$\n",
        "where $R_m=\\frac{(b-a)^m}{m!}f^(m)(a+\\theta (b-a))$\n",
        "for some $0 < \\theta < 1$. In particular, for $m=2$, we have\n",
        "$$f(b)=f(a)+(b-a)f'(a)+\\frac{1}{2}(b-a)^2 f''(\\xi)$$\n",
        "for some $a<\\xi < b$."
      ],
      "metadata": {
        "id": "jMDc7_wEBoFW"
      }
    },
    {
      "cell_type": "markdown",
      "source": [
        "#### **Theorem 3.2.22 (Multivariate Mean Value)**\n"
      ],
      "metadata": {
        "id": "rFxEnrwzBtEV"
      }
    },
    {
      "cell_type": "markdown",
      "source": [
        "Let $f : D \\to\\mathbb{ R}$ where $D \\subseteq \\mathbb{R}^d$. Let\n",
        "$\\textbf{x}_0 \\in D$ and $\\delta > 0$ be such that $B_\\delta(\\textbf{x}_0) \\subseteq D$. If $f$ is continuously differentiable on $B_\\delta(\\textbf{x}_0)$, then for any $\\textbf{x} \\in B_\\delta(\\textbf{x}_0)$\n",
        "$$f(\\textbf{x}) = f(\\textbf{x}_0) +\\nabla f(\\textbf{x}_0 +\\xi \\textbf{p})^T\\textbf{ p} $$\n",
        "for some $\\xi\\in(0,1)$, where $\\textbf{p} = \\textbf{x}−\\textbf{x}_0$."
      ],
      "metadata": {
        "id": "2xy5-ifzBwcW"
      }
    },
    {
      "cell_type": "markdown",
      "source": [
        "#### **Theorem 3.2.23 (Multivariate Taylor)**"
      ],
      "metadata": {
        "id": "vGSVmWDmCLOD"
      }
    },
    {
      "cell_type": "markdown",
      "source": [
        "Let $f : D \\to\\mathbb{ R}$ where $D \\subseteq \\mathbb{R}^d$. Let\n",
        "$\\textbf{x}_0 \\in D$ and $\\delta > 0$ be such that $B_\\delta(\\textbf{x}_0) \\subseteq D$. If $f$ is three times continuously differentiable on $B_\\delta(\\textbf{x}_0)$, then for any $\\textbf{x} \\in B_\\delta(\\textbf{x}_0)$\n",
        "$$f(\\textbf{x}) = f(\\textbf{x}_0) +\\nabla f(\\textbf{x}_0)^T \\textbf{p}+\\frac{1}{2}\\textbf{p}^T \\textbf{H}_f(\\textbf{x}_0)\\textbf{p}+O(||\\textbf{p}||^3)$$\n",
        "where $\\textbf{p} = \\textbf{x}−\\textbf{x}_0$.\n",
        "If $f$ is twice continuously differentiable on $B_\\delta(\\textbf{x}_0)$, then for any $\\textbf{x} \\in B_\\delta(\\textbf{x}_0)$\n",
        "$$f(\\textbf{x}) = f(\\textbf{x}_0) +\\nabla f(\\textbf{x}_0)^T \\textbf{p}+\\frac{1}{2}\\textbf{p}^T \\textbf{H}_f(\\textbf{x}_0 +\\xi \\textbf{p})\\textbf{p} $$\n",
        "for some $\\xi \\in (0,1)$, where $\\textbf{p} = \\textbf{x}−\\textbf{x}_0$."
      ],
      "metadata": {
        "id": "LE558QwjCN2c"
      }
    },
    {
      "cell_type": "code",
      "source": [
        "import sympy as sy\n",
        "from sympy.matrices import *\n",
        "x, t, a, h, k = sy.symbols('x t a h k')\n",
        "x0, t0 = sy.symbols('x_0, t_0')\n",
        "\n",
        "v = sy.Function('v')(x, t)\n",
        "X = Matrix([x,t])\n",
        "dX = Matrix([h,k])\n",
        "sy.init_printing()"
      ],
      "metadata": {
        "id": "I74F0gc4_IRu"
      },
      "execution_count": 17,
      "outputs": []
    },
    {
      "cell_type": "code",
      "source": [
        "dX"
      ],
      "metadata": {
        "colab": {
          "base_uri": "https://localhost:8080/",
          "height": 58
        },
        "id": "3j51zPAWCaUY",
        "outputId": "9abd8baa-be74-485f-b73c-0fcea46c744d"
      },
      "execution_count": 18,
      "outputs": [
        {
          "output_type": "execute_result",
          "data": {
            "text/plain": [
              "⎡h⎤\n",
              "⎢ ⎥\n",
              "⎣k⎦"
            ],
            "text/latex": "$\\displaystyle \\left[\\begin{matrix}h\\\\k\\end{matrix}\\right]$"
          },
          "metadata": {},
          "execution_count": 18
        }
      ]
    },
    {
      "cell_type": "code",
      "source": [
        "X"
      ],
      "metadata": {
        "colab": {
          "base_uri": "https://localhost:8080/",
          "height": 58
        },
        "id": "Z17ZNpvbCbfe",
        "outputId": "668af384-f454-4d17-f9b9-2e30c5df73ac"
      },
      "execution_count": 19,
      "outputs": [
        {
          "output_type": "execute_result",
          "data": {
            "text/plain": [
              "⎡x⎤\n",
              "⎢ ⎥\n",
              "⎣t⎦"
            ],
            "text/latex": "$\\displaystyle \\left[\\begin{matrix}x\\\\t\\end{matrix}\\right]$"
          },
          "metadata": {},
          "execution_count": 19
        }
      ]
    },
    {
      "cell_type": "code",
      "source": [
        "TE = 0\n",
        "v0 = v\n",
        "for idx, x in enumerate(X):\n",
        "    v0 = v0.subs(x, 0)\n",
        "TE += v0\n",
        "TE"
      ],
      "metadata": {
        "colab": {
          "base_uri": "https://localhost:8080/",
          "height": 39
        },
        "id": "ZWZ6I0CNCe2g",
        "outputId": "793db068-e6dd-4a89-e965-79fcb77214b6"
      },
      "execution_count": 20,
      "outputs": [
        {
          "output_type": "execute_result",
          "data": {
            "text/plain": [
              "v(0, 0)"
            ],
            "text/latex": "$\\displaystyle v{\\left(0,0 \\right)}$"
          },
          "metadata": {},
          "execution_count": 20
        }
      ]
    },
    {
      "cell_type": "code",
      "source": [
        "# The first order term\n",
        "gradV = Matrix([v.diff(xi,1) for xi in X])\n",
        "gradV"
      ],
      "metadata": {
        "colab": {
          "base_uri": "https://localhost:8080/",
          "height": 59
        },
        "id": "-U7fI10yChI0",
        "outputId": "cc0fa5ee-a113-4b6c-df4e-dd84529f8e01"
      },
      "execution_count": 21,
      "outputs": [
        {
          "output_type": "execute_result",
          "data": {
            "text/plain": [
              "⎡∂          ⎤\n",
              "⎢──(v(x, t))⎥\n",
              "⎢∂x         ⎥\n",
              "⎢           ⎥\n",
              "⎢∂          ⎥\n",
              "⎢──(v(x, t))⎥\n",
              "⎣∂t         ⎦"
            ],
            "text/latex": "$\\displaystyle \\left[\\begin{matrix}\\frac{\\partial}{\\partial x} v{\\left(x,t \\right)}\\\\\\frac{\\partial}{\\partial t} v{\\left(x,t \\right)}\\end{matrix}\\right]$"
          },
          "metadata": {},
          "execution_count": 21
        }
      ]
    },
    {
      "cell_type": "code",
      "source": [
        "firstTerm = gradV.T*dX\n",
        "TE += sum(firstTerm)\n",
        "firstTerm[0]"
      ],
      "metadata": {
        "colab": {
          "base_uri": "https://localhost:8080/",
          "height": 52
        },
        "id": "EdheaEizCiR9",
        "outputId": "70ff5fee-72a6-4504-80be-fe6c675d0bbf"
      },
      "execution_count": 22,
      "outputs": [
        {
          "output_type": "execute_result",
          "data": {
            "text/plain": [
              "  ∂               ∂          \n",
              "h⋅──(v(x, t)) + k⋅──(v(x, t))\n",
              "  ∂x              ∂t         "
            ],
            "text/latex": "$\\displaystyle h \\frac{\\partial}{\\partial x} v{\\left(x,t \\right)} + k \\frac{\\partial}{\\partial t} v{\\left(x,t \\right)}$"
          },
          "metadata": {},
          "execution_count": 22
        }
      ]
    },
    {
      "cell_type": "code",
      "source": [
        "def factorial(n):\n",
        "    if n <= 0:\n",
        "        return 1\n",
        "    else:\n",
        "        return n * factorial(n - 1)\n",
        "tsOrderGroup = lambda f, X, n: dX.T * Matrix([f.diff(xi,1) for xi in X]) / factorial(n)\n",
        "grad = tsOrderGroup(v, X, 1).T\n",
        "fir = grad\n",
        "sum(fir)"
      ],
      "metadata": {
        "colab": {
          "base_uri": "https://localhost:8080/",
          "height": 52
        },
        "id": "L4cFxz2YCmtN",
        "outputId": "b4226414-0ce8-468e-fd3a-e90e57481255"
      },
      "execution_count": 23,
      "outputs": [
        {
          "output_type": "execute_result",
          "data": {
            "text/plain": [
              "  ∂               ∂          \n",
              "h⋅──(v(x, t)) + k⋅──(v(x, t))\n",
              "  ∂x              ∂t         "
            ],
            "text/latex": "$\\displaystyle h \\frac{\\partial}{\\partial x} v{\\left(x,t \\right)} + k \\frac{\\partial}{\\partial t} v{\\left(x,t \\right)}$"
          },
          "metadata": {},
          "execution_count": 23
        }
      ]
    },
    {
      "cell_type": "code",
      "source": [
        "# The second order term\n",
        "sy.hessian(v, X)\n",
        "secondTerm = .5*dX.T*sy.hessian(v, X)*dX\n",
        "TE += sum(secondTerm)\n",
        "sy.simplify(sum(secondTerm))"
      ],
      "metadata": {
        "colab": {
          "base_uri": "https://localhost:8080/",
          "height": 54
        },
        "id": "EwcAZ6MuCqYg",
        "outputId": "37b7dfc2-ddba-4268-a7e6-eaf083f5fb33"
      },
      "execution_count": 24,
      "outputs": [
        {
          "output_type": "execute_result",
          "data": {
            "text/plain": [
              "         2                       2                      2         \n",
              "     2  ∂                       ∂                   2  ∂          \n",
              "0.5⋅h ⋅───(v(x, t)) + 1.0⋅h⋅k⋅─────(v(x, t)) + 0.5⋅k ⋅───(v(x, t))\n",
              "         2                    ∂x ∂t                     2         \n",
              "       ∂x                                             ∂t          "
            ],
            "text/latex": "$\\displaystyle 0.5 h^{2} \\frac{\\partial^{2}}{\\partial x^{2}} v{\\left(x,t \\right)} + 1.0 h k \\frac{\\partial^{2}}{\\partial x\\partial t} v{\\left(x,t \\right)} + 0.5 k^{2} \\frac{\\partial^{2}}{\\partial t^{2}} v{\\left(x,t \\right)}$"
          },
          "metadata": {},
          "execution_count": 24
        }
      ]
    },
    {
      "cell_type": "code",
      "source": [
        "gNext = Matrix([tsOrderGroup(dv, X, 2) for dv in grad * factorial(2 - 1)])\n",
        "sy.simplify(sum(gNext))"
      ],
      "metadata": {
        "colab": {
          "base_uri": "https://localhost:8080/",
          "height": 58
        },
        "id": "IeLZZrEpCrno",
        "outputId": "9ba0cc69-56f9-4729-a9da-a8c2aed39c9c"
      },
      "execution_count": 25,
      "outputs": [
        {
          "output_type": "execute_result",
          "data": {
            "text/plain": [
              "     2                                      2         \n",
              " 2  ∂                                   2  ∂          \n",
              "h ⋅───(v(x, t))                        k ⋅───(v(x, t))\n",
              "     2                   2                  2         \n",
              "   ∂x                   ∂                 ∂t          \n",
              "─────────────── + h⋅k⋅─────(v(x, t)) + ───────────────\n",
              "       2              ∂x ∂t                   2       "
            ],
            "text/latex": "$\\displaystyle \\frac{h^{2} \\frac{\\partial^{2}}{\\partial x^{2}} v{\\left(x,t \\right)}}{2} + h k \\frac{\\partial^{2}}{\\partial x\\partial t} v{\\left(x,t \\right)} + \\frac{k^{2} \\frac{\\partial^{2}}{\\partial t^{2}} v{\\left(x,t \\right)}}{2}$"
          },
          "metadata": {},
          "execution_count": 25
        }
      ]
    },
    {
      "cell_type": "code",
      "source": [
        "# The remaining term\n",
        "gNext = Matrix([tsOrderGroup(dv, X, 3) for dv in gNext * factorial(3 - 1)])\n",
        "TE += sum(gNext)\n",
        "sy.simplify(sum(gNext))"
      ],
      "metadata": {
        "colab": {
          "base_uri": "https://localhost:8080/",
          "height": 58
        },
        "id": "NMEEJs86Ct8L",
        "outputId": "9927c176-fd52-4406-9627-354f5c287826"
      },
      "execution_count": 26,
      "outputs": [
        {
          "output_type": "execute_result",
          "data": {
            "text/plain": [
              "     3                    3                      3                   3        \n",
              " 3  ∂              2     ∂                  2   ∂                3  ∂         \n",
              "h ⋅───(v(x, t))   h ⋅k⋅──────(v(x, t))   h⋅k ⋅──────(v(x, t))   k ⋅───(v(x, t)\n",
              "     3                   2                         2                 3        \n",
              "   ∂x                  ∂x  ∂t                 ∂x ∂t                ∂t         \n",
              "─────────────── + ──────────────────── + ──────────────────── + ──────────────\n",
              "       6                   2                      2                    6      \n",
              "\n",
              " \n",
              " \n",
              ")\n",
              " \n",
              " \n",
              "─\n",
              " "
            ],
            "text/latex": "$\\displaystyle \\frac{h^{3} \\frac{\\partial^{3}}{\\partial x^{3}} v{\\left(x,t \\right)}}{6} + \\frac{h^{2} k \\frac{\\partial^{3}}{\\partial x^{2}\\partial t} v{\\left(x,t \\right)}}{2} + \\frac{h k^{2} \\frac{\\partial^{3}}{\\partial x\\partial t^{2}} v{\\left(x,t \\right)}}{2} + \\frac{k^{3} \\frac{\\partial^{3}}{\\partial t^{3}} v{\\left(x,t \\right)}}{6}$"
          },
          "metadata": {},
          "execution_count": 26
        }
      ]
    },
    {
      "cell_type": "code",
      "source": [
        "TE += sy.O(h**4) + sy.O(k**4)\n",
        "sy.simplify(TE)"
      ],
      "metadata": {
        "colab": {
          "base_uri": "https://localhost:8080/",
          "height": 91
        },
        "id": "AnWyOjbdCy87",
        "outputId": "44059f30-9b02-4698-ed8c-9a549211c65d"
      },
      "execution_count": 27,
      "outputs": [
        {
          "output_type": "execute_result",
          "data": {
            "text/plain": [
              "                                           2                                  \n",
              "                    ∂                  2  ∂                                3  \n",
              "1.0⋅v(0, 0) + 1.0⋅k⋅──(v(x, t)) + 0.5⋅k ⋅───(v(x, t)) + 0.166666666666667⋅k ⋅─\n",
              "                    ∂t                     2                                  \n",
              "                                         ∂t                                  ∂\n",
              "\n",
              " 3                                           2                         3      \n",
              "∂                   ∂                       ∂                     2   ∂       \n",
              "──(v(x, t)) + 1.0⋅h⋅──(v(x, t)) + 1.0⋅h⋅k⋅─────(v(x, t)) + 0.5⋅h⋅k ⋅──────(v(x\n",
              " 3                  ∂x                    ∂x ∂t                          2    \n",
              "t                                                                   ∂x ∂t     \n",
              "\n",
              "                 2                        3                                   \n",
              "             2  ∂                  2     ∂                                  3 \n",
              ", t)) + 0.5⋅h ⋅───(v(x, t)) + 0.5⋅h ⋅k⋅──────(v(x, t)) + 0.166666666666667⋅h ⋅\n",
              "                 2                       2                                    \n",
              "               ∂x                      ∂x  ∂t                                 \n",
              "\n",
              "  3                         \n",
              " ∂              ⎛ 4⎞    ⎛ 4⎞\n",
              "───(v(x, t)) + O⎝k ⎠ + O⎝h ⎠\n",
              "  3                         \n",
              "∂x                          "
            ],
            "text/latex": "$\\displaystyle 1.0 v{\\left(0,0 \\right)} + 1.0 k \\frac{\\partial}{\\partial t} v{\\left(x,t \\right)} + 0.5 k^{2} \\frac{\\partial^{2}}{\\partial t^{2}} v{\\left(x,t \\right)} + 0.166666666666667 k^{3} \\frac{\\partial^{3}}{\\partial t^{3}} v{\\left(x,t \\right)} + 1.0 h \\frac{\\partial}{\\partial x} v{\\left(x,t \\right)} + 1.0 h k \\frac{\\partial^{2}}{\\partial x\\partial t} v{\\left(x,t \\right)} + 0.5 h k^{2} \\frac{\\partial^{3}}{\\partial x\\partial t^{2}} v{\\left(x,t \\right)} + 0.5 h^{2} \\frac{\\partial^{2}}{\\partial x^{2}} v{\\left(x,t \\right)} + 0.5 h^{2} k \\frac{\\partial^{3}}{\\partial x^{2}\\partial t} v{\\left(x,t \\right)} + 0.166666666666667 h^{3} \\frac{\\partial^{3}}{\\partial x^{3}} v{\\left(x,t \\right)} + O\\left(k^{4}\\right) + O\\left(h^{4}\\right)$"
          },
          "metadata": {},
          "execution_count": 27
        }
      ]
    },
    {
      "cell_type": "code",
      "source": [
        "TE.removeO()"
      ],
      "metadata": {
        "colab": {
          "base_uri": "https://localhost:8080/",
          "height": 123
        },
        "id": "pKg9j32vCz4z",
        "outputId": "5dbc487c-c85b-4d90-b144-92e67f16ab79"
      },
      "execution_count": 28,
      "outputs": [
        {
          "output_type": "execute_result",
          "data": {
            "text/plain": [
              "  ⎛  ⎛    3                 3           ⎞     ⎛     3                   3     \n",
              "  ⎜  ⎜   ∂                 ∂            ⎟     ⎜    ∂                   ∂      \n",
              "h⋅⎜h⋅⎜h⋅───(v(x, t)) + k⋅──────(v(x, t))⎟ + k⋅⎜h⋅──────(v(x, t)) + k⋅──────(v(\n",
              "  ⎜  ⎜    3                2            ⎟     ⎜    2                      2   \n",
              "  ⎝  ⎝  ∂x               ∂x  ∂t         ⎠     ⎝  ∂x  ∂t              ∂x ∂t    \n",
              "──────────────────────────────────────────────────────────────────────────────\n",
              "                                          6                                   \n",
              "                                                                              \n",
              "\n",
              "      ⎞⎞                                                                     ⎛\n",
              "      ⎟⎟                                                                     ⎜\n",
              "x, t))⎟⎟                                                                   k⋅⎜\n",
              "      ⎟⎟     ⎛        2                     2          ⎞                     ⎜\n",
              "      ⎠⎠     ⎜       ∂                     ∂           ⎟     ∂               ⎝\n",
              "──────── + h⋅⎜0.5⋅h⋅───(v(x, t)) + 0.5⋅k⋅─────(v(x, t))⎟ + h⋅──(v(x, t)) + ───\n",
              "             ⎜        2                  ∂x ∂t         ⎟     ∂x               \n",
              "             ⎝      ∂x                                 ⎠                      \n",
              "\n",
              "  ⎛     3                   3           ⎞     ⎛     3                  3      \n",
              "  ⎜    ∂                   ∂            ⎟     ⎜    ∂                  ∂       \n",
              "h⋅⎜h⋅──────(v(x, t)) + k⋅──────(v(x, t))⎟ + k⋅⎜h⋅──────(v(x, t)) + k⋅───(v(x, \n",
              "  ⎜    2                      2         ⎟     ⎜       2                3      \n",
              "  ⎝  ∂x  ∂t              ∂x ∂t          ⎠     ⎝  ∂x ∂t               ∂t       \n",
              "──────────────────────────────────────────────────────────────────────────────\n",
              "                                       6                                      \n",
              "                                                                              \n",
              "\n",
              "   ⎞⎞                                                                         \n",
              "   ⎟⎟                                                                         \n",
              "t))⎟⎟                                                                         \n",
              "   ⎟⎟     ⎛         2                     2         ⎞                         \n",
              "   ⎠⎠     ⎜        ∂                     ∂          ⎟     ∂                   \n",
              "───── + k⋅⎜0.5⋅h⋅─────(v(x, t)) + 0.5⋅k⋅───(v(x, t))⎟ + k⋅──(v(x, t)) + v(0, 0\n",
              "          ⎜      ∂x ∂t                    2         ⎟     ∂t                  \n",
              "          ⎝                             ∂t          ⎠                         \n",
              "\n",
              " \n",
              " \n",
              " \n",
              " \n",
              " \n",
              ")\n",
              " \n",
              " "
            ],
            "text/latex": "$\\displaystyle \\frac{h \\left(h \\left(h \\frac{\\partial^{3}}{\\partial x^{3}} v{\\left(x,t \\right)} + k \\frac{\\partial^{3}}{\\partial x^{2}\\partial t} v{\\left(x,t \\right)}\\right) + k \\left(h \\frac{\\partial^{3}}{\\partial x^{2}\\partial t} v{\\left(x,t \\right)} + k \\frac{\\partial^{3}}{\\partial x\\partial t^{2}} v{\\left(x,t \\right)}\\right)\\right)}{6} + h \\left(0.5 h \\frac{\\partial^{2}}{\\partial x^{2}} v{\\left(x,t \\right)} + 0.5 k \\frac{\\partial^{2}}{\\partial x\\partial t} v{\\left(x,t \\right)}\\right) + h \\frac{\\partial}{\\partial x} v{\\left(x,t \\right)} + \\frac{k \\left(h \\left(h \\frac{\\partial^{3}}{\\partial x^{2}\\partial t} v{\\left(x,t \\right)} + k \\frac{\\partial^{3}}{\\partial x\\partial t^{2}} v{\\left(x,t \\right)}\\right) + k \\left(h \\frac{\\partial^{3}}{\\partial x\\partial t^{2}} v{\\left(x,t \\right)} + k \\frac{\\partial^{3}}{\\partial t^{3}} v{\\left(x,t \\right)}\\right)\\right)}{6} + k \\left(0.5 h \\frac{\\partial^{2}}{\\partial x\\partial t} v{\\left(x,t \\right)} + 0.5 k \\frac{\\partial^{2}}{\\partial t^{2}} v{\\left(x,t \\right)}\\right) + k \\frac{\\partial}{\\partial t} v{\\left(x,t \\right)} + v{\\left(0,0 \\right)}$"
          },
          "metadata": {},
          "execution_count": 28
        }
      ]
    },
    {
      "cell_type": "code",
      "source": [
        "def myTaylorSeries(v, nOrder, X, dX):\n",
        "    TE = 0\n",
        "    v0 = v\n",
        "    for idx, x in enumerate(X):\n",
        "        v0 = v0.subs(x, 0)\n",
        "        TE += sy.O(x**(nOrder+1))\n",
        "    TE += v0\n",
        "    tsOrderGroup = lambda f, X, n: dX.T * Matrix([f.diff(xi,1) for xi in X])\n",
        "    grad = tsOrderGroup(v, X, 1).T\n",
        "    TE += sum(grad)\n",
        "    gNext = grad\n",
        "    for nord in range(2, nOrder+1):\n",
        "        gNext = Matrix([tsOrderGroup(dv, X, nord) for dv in gNext])\n",
        "        TE += sum(gNext)/factorial(nord)\n",
        "    return TE"
      ],
      "metadata": {
        "id": "TU2MDpaAC1O9"
      },
      "execution_count": 29,
      "outputs": []
    },
    {
      "cell_type": "code",
      "source": [
        "sy.simplify(myTaylorSeries(v, 4, X, dX))"
      ],
      "metadata": {
        "colab": {
          "base_uri": "https://localhost:8080/",
          "height": 100
        },
        "id": "houYd7uFC6Mw",
        "outputId": "432ecc64-90eb-44c9-e58f-1317127837e5"
      },
      "execution_count": 30,
      "outputs": [
        {
          "output_type": "execute_result",
          "data": {
            "text/plain": [
              "                               2                 3                 4          \n",
              "                           2  ∂              3  ∂              4  ∂           \n",
              "                          k ⋅───(v(x, t))   k ⋅───(v(x, t))   k ⋅───(v(x, t)) \n",
              "                               2                 3                 4          \n",
              "            ∂                ∂t                ∂t                ∂t           \n",
              "v(0, 0) + k⋅──(v(x, t)) + ─────────────── + ─────────────── + ─────────────── \n",
              "            ∂t                   2                 6                 24       \n",
              "\n",
              "                                               3                      4       \n",
              "                                          2   ∂                  3   ∂        \n",
              "                                       h⋅k ⋅──────(v(x, t))   h⋅k ⋅──────(v(x,\n",
              "                         2                       2                      3     \n",
              "    ∂                   ∂                   ∂x ∂t                  ∂x ∂t      \n",
              "+ h⋅──(v(x, t)) + h⋅k⋅─────(v(x, t)) + ──────────────────── + ────────────────\n",
              "    ∂x                ∂x ∂t                     2                      6      \n",
              "\n",
              "            2                    3                        4                   \n",
              "        2  ∂              2     ∂                2  2    ∂                3  ∂\n",
              " t))   h ⋅───(v(x, t))   h ⋅k⋅──────(v(x, t))   h ⋅k ⋅───────(v(x, t))   h ⋅──\n",
              "            2                   2                       2   2                 \n",
              "          ∂x                  ∂x  ∂t                  ∂x  ∂t                ∂x\n",
              "──── + ─────────────── + ──────────────────── + ────────────────────── + ─────\n",
              "              2                   2                       4                   \n",
              "\n",
              "3                    4                   4                         \n",
              "              3     ∂                4  ∂                          \n",
              "─(v(x, t))   h ⋅k⋅──────(v(x, t))   h ⋅───(v(x, t))                \n",
              "3                   3                    4                         \n",
              "                  ∂x  ∂t               ∂x              ⎛ 5⎞    ⎛ 5⎞\n",
              "────────── + ──────────────────── + ─────────────── + O⎝x ⎠ + O⎝t ⎠\n",
              "  6                   6                    24                      "
            ],
            "text/latex": "$\\displaystyle v{\\left(0,0 \\right)} + k \\frac{\\partial}{\\partial t} v{\\left(x,t \\right)} + \\frac{k^{2} \\frac{\\partial^{2}}{\\partial t^{2}} v{\\left(x,t \\right)}}{2} + \\frac{k^{3} \\frac{\\partial^{3}}{\\partial t^{3}} v{\\left(x,t \\right)}}{6} + \\frac{k^{4} \\frac{\\partial^{4}}{\\partial t^{4}} v{\\left(x,t \\right)}}{24} + h \\frac{\\partial}{\\partial x} v{\\left(x,t \\right)} + h k \\frac{\\partial^{2}}{\\partial x\\partial t} v{\\left(x,t \\right)} + \\frac{h k^{2} \\frac{\\partial^{3}}{\\partial x\\partial t^{2}} v{\\left(x,t \\right)}}{2} + \\frac{h k^{3} \\frac{\\partial^{4}}{\\partial x\\partial t^{3}} v{\\left(x,t \\right)}}{6} + \\frac{h^{2} \\frac{\\partial^{2}}{\\partial x^{2}} v{\\left(x,t \\right)}}{2} + \\frac{h^{2} k \\frac{\\partial^{3}}{\\partial x^{2}\\partial t} v{\\left(x,t \\right)}}{2} + \\frac{h^{2} k^{2} \\frac{\\partial^{4}}{\\partial x^{2}\\partial t^{2}} v{\\left(x,t \\right)}}{4} + \\frac{h^{3} \\frac{\\partial^{3}}{\\partial x^{3}} v{\\left(x,t \\right)}}{6} + \\frac{h^{3} k \\frac{\\partial^{4}}{\\partial x^{3}\\partial t} v{\\left(x,t \\right)}}{6} + \\frac{h^{4} \\frac{\\partial^{4}}{\\partial x^{4}} v{\\left(x,t \\right)}}{24} + O\\left(x^{5}\\right) + O\\left(t^{5}\\right)$"
          },
          "metadata": {},
          "execution_count": 30
        }
      ]
    },
    {
      "cell_type": "code",
      "source": [
        "x, y, z, t, h, l, m, k = sy.symbols('x, y, z, t, h, l, m, k')\n",
        "S = Matrix([x, y, z, t])\n",
        "dS = Matrix([h, l, m, k])\n",
        "f = sy.Function('f')(x, y, z, t)\n",
        "fTS = myTaylorSeries(f, 2, S, dS)"
      ],
      "metadata": {
        "id": "BOuGAOHtC9Yy"
      },
      "execution_count": 31,
      "outputs": []
    },
    {
      "cell_type": "code",
      "source": [
        "sy.simplify(fTS)"
      ],
      "metadata": {
        "colab": {
          "base_uri": "https://localhost:8080/",
          "height": 150
        },
        "id": "INgoWa75C_0e",
        "outputId": "d96bfa67-8397-443d-c292-b96d9e971425"
      },
      "execution_count": 32,
      "outputs": [
        {
          "output_type": "execute_result",
          "data": {
            "text/plain": [
              "                                           2                                  \n",
              "                                       2  ∂                                   \n",
              "                                      m ⋅───(f(x, y, z, t))                   \n",
              "                                           2                                  \n",
              "                  ∂                      ∂z                     ∂             \n",
              "f(0, 0, 0, 0) + m⋅──(f(x, y, z, t)) + ───────────────────── + l⋅──(f(x, y, z, \n",
              "                  ∂z                            2               ∂y            \n",
              "\n",
              "                                      2                                       \n",
              "                                  2  ∂                                        \n",
              "                                 l ⋅───(f(x, y, z, t))                        \n",
              "             2                        2                                       \n",
              "            ∂                       ∂y                     ∂                  \n",
              "t)) + l⋅m⋅─────(f(x, y, z, t)) + ───────────────────── + k⋅──(f(x, y, z, t)) +\n",
              "          ∂z ∂y                            2               ∂t                 \n",
              "\n",
              "                                                            2                 \n",
              "                                                        2  ∂                  \n",
              "                                                       k ⋅───(f(x, y, z, t))  \n",
              "        2                          2                        2                 \n",
              "       ∂                          ∂                       ∂t                  \n",
              " k⋅m⋅─────(f(x, y, z, t)) + k⋅l⋅─────(f(x, y, z, t)) + ───────────────────── +\n",
              "     ∂z ∂t                      ∂y ∂t                            2            \n",
              "\n",
              "                                                                              \n",
              "                                                                              \n",
              "                                                                              \n",
              "                              2                          2                    \n",
              "   ∂                         ∂                          ∂                     \n",
              " h⋅──(f(x, y, z, t)) + h⋅m⋅─────(f(x, y, z, t)) + h⋅l⋅─────(f(x, y, z, t)) + h\n",
              "   ∂x                      ∂z ∂x                      ∂y ∂x                   \n",
              "\n",
              "                               2                                              \n",
              "                           2  ∂                                               \n",
              "                          h ⋅───(f(x, y, z, t))                               \n",
              "      2                        2                                              \n",
              "     ∂                       ∂x                    ⎛ 3⎞    ⎛ 3⎞    ⎛ 3⎞    ⎛ 3\n",
              "⋅k⋅─────(f(x, y, z, t)) + ───────────────────── + O⎝z ⎠ + O⎝y ⎠ + O⎝x ⎠ + O⎝t \n",
              "   ∂x ∂t                            2                                         \n",
              "\n",
              " \n",
              " \n",
              " \n",
              " \n",
              "⎞\n",
              "⎠\n",
              " "
            ],
            "text/latex": "$\\displaystyle f{\\left(0,0,0,0 \\right)} + m \\frac{\\partial}{\\partial z} f{\\left(x,y,z,t \\right)} + \\frac{m^{2} \\frac{\\partial^{2}}{\\partial z^{2}} f{\\left(x,y,z,t \\right)}}{2} + l \\frac{\\partial}{\\partial y} f{\\left(x,y,z,t \\right)} + l m \\frac{\\partial^{2}}{\\partial z\\partial y} f{\\left(x,y,z,t \\right)} + \\frac{l^{2} \\frac{\\partial^{2}}{\\partial y^{2}} f{\\left(x,y,z,t \\right)}}{2} + k \\frac{\\partial}{\\partial t} f{\\left(x,y,z,t \\right)} + k m \\frac{\\partial^{2}}{\\partial z\\partial t} f{\\left(x,y,z,t \\right)} + k l \\frac{\\partial^{2}}{\\partial y\\partial t} f{\\left(x,y,z,t \\right)} + \\frac{k^{2} \\frac{\\partial^{2}}{\\partial t^{2}} f{\\left(x,y,z,t \\right)}}{2} + h \\frac{\\partial}{\\partial x} f{\\left(x,y,z,t \\right)} + h m \\frac{\\partial^{2}}{\\partial z\\partial x} f{\\left(x,y,z,t \\right)} + h l \\frac{\\partial^{2}}{\\partial y\\partial x} f{\\left(x,y,z,t \\right)} + h k \\frac{\\partial^{2}}{\\partial x\\partial t} f{\\left(x,y,z,t \\right)} + \\frac{h^{2} \\frac{\\partial^{2}}{\\partial x^{2}} f{\\left(x,y,z,t \\right)}}{2} + O\\left(z^{3}\\right) + O\\left(y^{3}\\right) + O\\left(x^{3}\\right) + O\\left(t^{3}\\right)$"
          },
          "metadata": {},
          "execution_count": 32
        }
      ]
    },
    {
      "cell_type": "markdown",
      "source": [
        "### Source"
      ],
      "metadata": {
        "id": "vzVue64eDDAD"
      }
    },
    {
      "cell_type": "markdown",
      "source": [
        "https://github.com/madonnaojorin/MAT494/blob/main/3.2_Continunity_and_Differentiation.ipynb"
      ],
      "metadata": {
        "id": "4Y_g_ifhDIhc"
      }
    }
  ]
}