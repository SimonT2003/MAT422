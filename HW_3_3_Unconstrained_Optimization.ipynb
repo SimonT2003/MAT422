{
  "nbformat": 4,
  "nbformat_minor": 0,
  "metadata": {
    "colab": {
      "provenance": [],
      "authorship_tag": "ABX9TyOZXSnWiqBhup4MI9wON6ht",
      "include_colab_link": true
    },
    "kernelspec": {
      "name": "python3",
      "display_name": "Python 3"
    },
    "language_info": {
      "name": "python"
    }
  },
  "cells": [
    {
      "cell_type": "markdown",
      "metadata": {
        "id": "view-in-github",
        "colab_type": "text"
      },
      "source": [
        "<a href=\"https://colab.research.google.com/github/SimonT2003/MAT422/blob/main/HW_3_3_Unconstrained_Optimization.ipynb\" target=\"_parent\"><img src=\"https://colab.research.google.com/assets/colab-badge.svg\" alt=\"Open In Colab\"/></a>"
      ]
    },
    {
      "cell_type": "markdown",
      "source": [
        "# **More Calculus Concepts in Python**"
      ],
      "metadata": {
        "id": "dq3ACl-gQIdU"
      }
    },
    {
      "cell_type": "markdown",
      "source": [
        "## **3.3.1 - Necessary and Sufficient Conditions of Local Minimizers**"
      ],
      "metadata": {
        "id": "yUuTPonqQP_k"
      }
    },
    {
      "cell_type": "markdown",
      "source": [
        "### **Definition 3.3.1 (Global minimizer)**"
      ],
      "metadata": {
        "id": "w9artkv4QcFQ"
      }
    },
    {
      "cell_type": "markdown",
      "source": [
        "Let $f : \\mathbb{R}^d\\to\\mathbb{R}$. The point $\\textbf{x}^*\\in\\mathbb{ R}^d$\n",
        "is a global minimizer of $f$ over $\\mathbb{R}^d$ if\n",
        "$$f(\\textbf{x}) \\geq f(\\textbf{x}^*), \\forall \\textbf{x} \\in \\mathbb{ R}^d.$$"
      ],
      "metadata": {
        "id": "3JUnTEb5QjqG"
      }
    },
    {
      "cell_type": "markdown",
      "source": [
        "### **Definition 3.3.2 (Local minimizer)**"
      ],
      "metadata": {
        "id": "1_1majFEQtiM"
      }
    },
    {
      "cell_type": "markdown",
      "source": [
        "Let $f : \\mathbb{R}^d\\to\\mathbb{R}$. The point $\\textbf{x}^*\\in\\mathbb{ R}^d$\n",
        "is a global minimizer of $f$ over $\\mathbb{R}^d$ if there is $\\delta >0$ such that\n",
        "$$f(\\textbf{x})\\geq f(\\textbf{x}^*), \\forall \\textbf{x}\\in B_\\delta(\\textbf{x}^*)\\backslash \\{\\textbf{x}^*\\}.$$\n",
        "If the inequality is strict, we say that $\\textbf{x}^*$ is a strict local minimizer."
      ],
      "metadata": {
        "id": "0zFAvds4QxY5"
      }
    },
    {
      "cell_type": "code",
      "execution_count": 1,
      "metadata": {
        "colab": {
          "base_uri": "https://localhost:8080/"
        },
        "id": "catXQI4hPhjh",
        "outputId": "dc2a63ae-b3ff-44c8-e8f6-77ff22ce72ff"
      },
      "outputs": [
        {
          "output_type": "stream",
          "name": "stdout",
          "text": [
            "0.6999999997839409\n"
          ]
        }
      ],
      "source": [
        "from scipy import optimize\n",
        "import numpy as np\n",
        "\n",
        "def f(x):\n",
        "  return -np.exp(-(x - 0.7)**2)\n",
        "result = optimize.minimize_scalar(f)\n",
        "result.success # check if solver was successful\n",
        "x_min = result.x\n",
        "print(x_min)"
      ]
    },
    {
      "cell_type": "code",
      "source": [
        "def f(x):   # The rosenbrock function\n",
        " return .5*(1 - x[0])**2 + (x[1] - x[0]**2)**2\n",
        " optimize.minimize(f, [2, -1], method=\"CG\")"
      ],
      "metadata": {
        "id": "PViQb8YbQ9rh"
      },
      "execution_count": 2,
      "outputs": []
    },
    {
      "cell_type": "code",
      "source": [
        "def jacobian(x):\n",
        "  return np.array((-2*.5*(1 - x[0]) - 4*x[0]*(x[1] - x[0]**2), 2*(x[1] - x[0]**2)))\n",
        "optimize.minimize(f, [2, 1], method=\"CG\", jac=jacobian)"
      ],
      "metadata": {
        "colab": {
          "base_uri": "https://localhost:8080/"
        },
        "id": "1bRMk496Q_Dx",
        "outputId": "311d58fa-8286-419e-fe43-3722f73d0e09"
      },
      "execution_count": 3,
      "outputs": [
        {
          "output_type": "execute_result",
          "data": {
            "text/plain": [
              " message: Optimization terminated successfully.\n",
              " success: True\n",
              "  status: 0\n",
              "     fun: 2.957865890641887e-14\n",
              "       x: [ 1.000e+00  1.000e+00]\n",
              "     nit: 8\n",
              "     jac: [ 7.183e-07 -2.990e-07]\n",
              "    nfev: 16\n",
              "    njev: 16"
            ]
          },
          "metadata": {},
          "execution_count": 3
        }
      ]
    },
    {
      "cell_type": "markdown",
      "source": [
        "### **Definition 3.3.3 (Descent Direction)**"
      ],
      "metadata": {
        "id": "Bj767sCiRF59"
      }
    },
    {
      "cell_type": "markdown",
      "source": [
        "Let $f : \\mathbb{R}^d\\to\\mathbb{R}$. A vector \\textbf{v} is a descent direction for $f$ at $\\textbf{x}_0$ if there is $\\alpha^*>0$ such that\n",
        "$$f(\\textbf{x}_0+\\alpha \\textbf{v})<f(\\textbf{x}_0), \\forall \\alpha\\in (0,\\alpha^*).$$"
      ],
      "metadata": {
        "id": "DvWuvWu2RJGl"
      }
    },
    {
      "cell_type": "markdown",
      "source": [
        "### **Lemma 3.3.4 (Descent Direction and Directional Derivative)**"
      ],
      "metadata": {
        "id": "-UQzrstgRMeO"
      }
    },
    {
      "cell_type": "markdown",
      "source": [
        "Let $f : \\mathbb{R}^d\\to\\mathbb{R}$ be continuously differentiable at $\\textbf{x}_0$. A vector $\\textbf{v}$ is a descent direction for $f$ at\n",
        "$\\textbf{x}_0$ if\n",
        "$$\\frac{\\partial f(\\textbf{x}_0)}{\\partial \\textbf{v}}=\\nabla f(\\textbf{x}_0)^T\\textbf{v}<0$$\n",
        "that is, if the directional derivative of $f$ at $\\textbf{x}_0$ in the direction $\\textbf{v}$ is negative."
      ],
      "metadata": {
        "id": "UXh-elv2RStY"
      }
    },
    {
      "cell_type": "markdown",
      "source": [
        "### **Lemma 3.3.5 (Existence of a Descent Direction)**"
      ],
      "metadata": {
        "id": "l-U2oCJnRfiD"
      }
    },
    {
      "cell_type": "markdown",
      "source": [
        "Let Let Let $f : \\mathbb{R}^d\\to\\mathbb{R}$ be continuously differentiable at $\\textbf{x}_0$ and assume that $\\nabla f(\\textbf{x}_0) \\neq 0$. Then $f$ has a descent direction at $\\textbf{x}_0$."
      ],
      "metadata": {
        "id": "KqeilyRZRiVe"
      }
    },
    {
      "cell_type": "code",
      "source": [
        "cur_x = 3 # The algorithm starts at x=3\n",
        "rate = 0.01 # Learning rate\n",
        "precision = 0.000001 #This tells us when to stop the algorithm\n",
        "previous_step_size = 1 #\n",
        "max_iters = 10000 # maximum number of iterations\n",
        "iters = 0 #iteration counter\n",
        "df = lambda x: 2*(x+5) #Gradient of our function"
      ],
      "metadata": {
        "id": "uSyO5KZERIiy"
      },
      "execution_count": 4,
      "outputs": []
    },
    {
      "cell_type": "code",
      "source": [
        "while previous_step_size > precision and iters < max_iters:\n",
        "    prev_x = cur_x #Store current x value in prev_x\n",
        "    cur_x = cur_x - rate * df(prev_x) #Grad descent\n",
        "    previous_step_size = abs(cur_x - prev_x) #Change in x\n",
        "    iters = iters+1 #iteration count\n",
        "    #print(\"Iteration\",iters,\"\\nX value is\",cur_x) #Print iterations\n",
        "\n",
        "print(\"The local minimum occurs at\", cur_x)"
      ],
      "metadata": {
        "colab": {
          "base_uri": "https://localhost:8080/"
        },
        "id": "qoiRQlJdRpVX",
        "outputId": "09966cc0-2d23-4e66-8f05-161aa507d5ee"
      },
      "execution_count": 5,
      "outputs": [
        {
          "output_type": "stream",
          "name": "stdout",
          "text": [
            "The local minimum occurs at -4.9999518490318176\n"
          ]
        }
      ]
    },
    {
      "cell_type": "markdown",
      "source": [
        "### **Theorem 3.3.6 (First-Order Necessary Condition)**"
      ],
      "metadata": {
        "id": "F1DzK2XKR5AW"
      }
    },
    {
      "cell_type": "markdown",
      "source": [
        "Let $f : \\mathbb{R}^d\\to\\mathbb{R}$ be continuously differentiable on $\\mathbb{R}^d$. If $\\textbf{x}_0$ is a local minimizer, then $\\nabla f(\\textbf{x}_0) = 0$."
      ],
      "metadata": {
        "id": "eHN1mhLlR7Lq"
      }
    },
    {
      "cell_type": "markdown",
      "source": [
        "### **Definition 3.3.7**"
      ],
      "metadata": {
        "id": "3UceRWf4SIBL"
      }
    },
    {
      "cell_type": "markdown",
      "source": [
        "A square symmetric $d \\times d$ matrix $H$ is positive semi-definite\n",
        "(PSD) if $\\textbf{x}^TH\\textbf{x}\\geq 0$ for any $\\textbf{x} \\in \\mathbb{R}^d$."
      ],
      "metadata": {
        "id": "Ko0PcIhwSUEz"
      }
    },
    {
      "cell_type": "markdown",
      "source": [
        "### **Theorem 3.3.8 (Second-Order Necessary Condition)**"
      ],
      "metadata": {
        "id": "PAkrAysuSZlM"
      }
    },
    {
      "cell_type": "markdown",
      "source": [
        "Let  $f : \\mathbb{R}^d\\to\\mathbb{R}$ be continuously differentiable on $\\mathbb{R}^d$. If $\\textbf{x}_0$ is a local minimizer, then $H_f(\\textbf{x}_0)$ is PSD."
      ],
      "metadata": {
        "id": "Xo76kq3RScpf"
      }
    },
    {
      "cell_type": "markdown",
      "source": [
        "## **3.3.1.1 Suﬀicient conditions for Local Minimizers**"
      ],
      "metadata": {
        "id": "AAFTwS8JSlnq"
      }
    },
    {
      "cell_type": "markdown",
      "source": [
        "### **Theorem 3.3.10 (Second-Order Sufficient Condition)**"
      ],
      "metadata": {
        "id": "lQdq4rxLSx8h"
      }
    },
    {
      "cell_type": "markdown",
      "source": [
        "\n",
        " $f : \\mathbb{R}^d\\to\\mathbb{R}$ be twice\n",
        "continuously differentiable on $\\mathbb{R}^d$. If $\\nabla f(\\textbf{x}_0) = 0$ and $H_f(\\textbf{x}_0)$ is positive definite, then $\\textbf{x}_0$ is a strict local minimizer."
      ],
      "metadata": {
        "id": "Bf_aZg6eS3YP"
      }
    },
    {
      "cell_type": "markdown",
      "source": [
        "## **3.3.2 Convexity and Global Minimizers**"
      ],
      "metadata": {
        "id": "3l8F9pACTD8w"
      }
    },
    {
      "cell_type": "markdown",
      "source": [
        "### **3.3.2.1 Convex Sets and functions**"
      ],
      "metadata": {
        "id": "K5mw06cPTGMX"
      }
    },
    {
      "cell_type": "code",
      "source": [
        "import numpy as np\n",
        "import scipy.optimize as opt\n",
        "objective = np.poly1d([1.0, -2.0, 0.0])\n",
        "print(objective)\n",
        "x0 = 3.0\n",
        "results = opt.minimize(objective,x0)\n",
        "print(\"Solution: x=%f\" % results.x)\n",
        "import matplotlib.pylab as plt\n",
        "x = np.linspace(-3,5,100)\n",
        "plt.plot(x,objective(x))\n",
        "plt.plot(results.x,objective(results.x),'ro')\n",
        "plt.show()"
      ],
      "metadata": {
        "colab": {
          "base_uri": "https://localhost:8080/",
          "height": 482
        },
        "id": "CWIgRbC1SsYN",
        "outputId": "473c765f-cdab-4c3b-81de-d9b68453a698"
      },
      "execution_count": 8,
      "outputs": [
        {
          "output_type": "stream",
          "name": "stdout",
          "text": [
            "   2\n",
            "1 x - 2 x\n",
            "Solution: x=1.000000\n"
          ]
        },
        {
          "output_type": "display_data",
          "data": {
            "text/plain": [
              "<Figure size 640x480 with 1 Axes>"
            ],
            "image/png": "[encoded data removed]"
          },
          "metadata": {}
        }
      ]
    },
    {
      "cell_type": "code",
      "source": [
        "def objective(x,coeffs):\n",
        "  return coeffs[0]*x**2 + coeffs[1]*x + coeffs[2]\n",
        "x0 = 3.0\n",
        "mycoeffs = [1.0,-2.0,0.0]\n",
        "myoptions={'disp':True}\n",
        "results = opt.minimize(objective,x0,args=mycoeffs,\n",
        "options = myoptions)\n",
        "print(\"Solution: x=%f\" % results.x)\n",
        "x = np.linspace(-3,5,100)\n",
        "plt.plot(x,objective(x,mycoeffs))\n",
        "plt.plot(results.x,objective(results.x,mycoeffs),'ro')\n",
        "plt.show()"
      ],
      "metadata": {
        "colab": {
          "base_uri": "https://localhost:8080/",
          "height": 534
        },
        "id": "sBAk7y6-Tgu8",
        "outputId": "3326cd3f-04dc-4e7d-c191-b5d6e070582e"
      },
      "execution_count": 9,
      "outputs": [
        {
          "output_type": "stream",
          "name": "stdout",
          "text": [
            "Optimization terminated successfully.\n",
            "         Current function value: -1.000000\n",
            "         Iterations: 2\n",
            "         Function evaluations: 6\n",
            "         Gradient evaluations: 3\n",
            "Solution: x=1.000000\n"
          ]
        },
        {
          "output_type": "display_data",
          "data": {
            "text/plain": [
              "<Figure size 640x480 with 1 Axes>"
            ],
            "image/png": "[encoded data removed]"
          },
          "metadata": {}
        }
      ]
    },
    {
      "cell_type": "markdown",
      "source": [
        "### **Definition 3.3.11 (Convex Set)**:\n"
      ],
      "metadata": {
        "id": "4Md4ixCXTm2n"
      }
    },
    {
      "cell_type": "markdown",
      "source": [
        "A set $D \\subseteq\\mathbb{ R}^d$ is convex if for all $\\textbf{x},\\textbf{y}\\in D$ and\n",
        "all $\\alpha \\in [0,1]$\n",
        "$$(1-\\alpha)\\textbf{x}+\\alpha\\textbf{y}\\in D.$$"
      ],
      "metadata": {
        "id": "dinHHf9LTyuz"
      }
    },
    {
      "cell_type": "markdown",
      "source": [
        "### **Definition 3.3.13 (Convex Function)**"
      ],
      "metadata": {
        "id": "6w0Ah-XlUEyF"
      }
    },
    {
      "cell_type": "markdown",
      "source": [
        "A function  $f : \\mathbb{R}^d\\to\\mathbb{R}$  is convex if, for\n",
        "all $\\textbf{x},\\textbf{y} \\in \\mathbb{R}^d$ and all $\\alpha \\in [0,1]$\n",
        "$$f((1−\\alpha)\\textbf{x}+\\alpha\\textbf{y}) \\leq (1−\\alpha)f(\\textbf{x}) +\\alpha f(\\textbf{y}).$$"
      ],
      "metadata": {
        "id": "ELnLU6N4UG0_"
      }
    },
    {
      "cell_type": "markdown",
      "source": [
        "### **Lemma 3.3.14 (Affine Functions are Convex)**"
      ],
      "metadata": {
        "id": "QeIObfp9UKQu"
      }
    },
    {
      "cell_type": "markdown",
      "source": [
        "Let $\\textbf{w} \\in\\mathbb{ R}^d$ and $b \\in\\mathbb{R}$. The function $f(\\textbf{x}) = \\textbf{w}^T \\textbf{x}+b$ is convex."
      ],
      "metadata": {
        "id": "CZj9gyiTUP5z"
      }
    },
    {
      "cell_type": "markdown",
      "source": [
        "### **Lemma 3.3.15 (First-Order Convexity Condition)**"
      ],
      "metadata": {
        "id": "BujLj5wIUSvM"
      }
    },
    {
      "cell_type": "markdown",
      "source": [
        "Let $f : \\mathbb{R}^d\\to\\mathbb{R}$ be continuously differentiable. Then $f$ is convex if and only if for all $\\textbf{x},\\textbf{y}\\in\\mathbb{ R}^d$\n",
        "$$f(\\textbf{y}) \\geq f(\\textbf{x}) +\\nabla f(\\textbf{x})^T(\\textbf{y}−\\textbf{x}).$$"
      ],
      "metadata": {
        "id": "9tmZj2AMUY9o"
      }
    },
    {
      "cell_type": "markdown",
      "source": [
        "### **Lemma 3.3.16 (Second-Order Convexity Condition)**"
      ],
      "metadata": {
        "id": "0mKgVdvkUbhq"
      }
    },
    {
      "cell_type": "markdown",
      "source": [
        "Let  $f : \\mathbb{R}^d\\to\\mathbb{R}$ be twice continuously differentiable. Then $f$ is convex if and only if, for all $\\textbf{x} \\in\\mathbb{ R}^d$, $\\textbf{H}_f(\\textbf{x})$ is PSD."
      ],
      "metadata": {
        "id": "Jycn3JmdUh2-"
      }
    },
    {
      "cell_type": "markdown",
      "source": [
        "## **3.3.2.2 Global Minimizers of Convex Functions**\n"
      ],
      "metadata": {
        "id": "2zVlHKLiUkXK"
      }
    },
    {
      "cell_type": "markdown",
      "source": [
        "### **Theorem 3.3.18**"
      ],
      "metadata": {
        "id": "AwBZdciaUptW"
      }
    },
    {
      "cell_type": "markdown",
      "source": [
        "Let  $f : \\mathbb{R}^d\\to\\mathbb{R}$ be a continuously differentiable, convex function. If $\\nabla f(\\textbf{x}_0) = 0$ then $\\textbf{x}_0$ is a global minimizer."
      ],
      "metadata": {
        "id": "pX2KNz-wUvTw"
      }
    },
    {
      "cell_type": "markdown",
      "source": [
        "### **Theorem 3.3.19 (Global Minimizers of Convex Functions)**"
      ],
      "metadata": {
        "id": "vX76xwcKU32w"
      }
    },
    {
      "cell_type": "markdown",
      "source": [
        "Let  $f : \\mathbb{R}^d\\to\\mathbb{R}$ be a convex function. Then any local minimizer of $f$ is also a global minimizer."
      ],
      "metadata": {
        "id": "Et5EIChCU6Eb"
      }
    },
    {
      "cell_type": "code",
      "source": [
        "def f(x):   # The rosenbrock function\n",
        "  return .5*(1 - x[0])**2 + (x[1] - x[0]**2)**2\n",
        "optimize.brute(f, ((-1, 2), (-1, 2)))"
      ],
      "metadata": {
        "colab": {
          "base_uri": "https://localhost:8080/"
        },
        "id": "UyiuWAQPUA--",
        "outputId": "147eea7c-6490-486f-dd37-be9db92d1114"
      },
      "execution_count": 11,
      "outputs": [
        {
          "output_type": "execute_result",
          "data": {
            "text/plain": [
              "array([1.00001462, 1.00001547])"
            ]
          },
          "metadata": {},
          "execution_count": 11
        }
      ]
    },
    {
      "cell_type": "markdown",
      "source": [
        "## **3.3.3 Gradient Descent**"
      ],
      "metadata": {
        "id": "G1pHFB1QVGJ2"
      }
    },
    {
      "cell_type": "markdown",
      "source": [
        "## **3.3.3.1 Steepest Descent**"
      ],
      "metadata": {
        "id": "fk0SnaEXVKA-"
      }
    },
    {
      "cell_type": "markdown",
      "source": [
        "### **Lemma 3.3.22 (Steepest Descent)**"
      ],
      "metadata": {
        "id": "L5wSmjnTVSDv"
      }
    },
    {
      "cell_type": "markdown",
      "source": [
        "Let $f : \\mathbb{R}^d\\to\\mathbb{R}$ be continuously differentiable at $\\textbf{x}_0$. For any unit vector $\\textbf{v}\\in\\mathbb{R}^d$,\n",
        "$$\\frac{\\partial f(\\textbf{x}_0)}{\\partial \\textbf{v}}\\geq\\frac{\\partial f(\\textbf{x}_0)}{\\partial\\textbf{v}^*}$$"
      ],
      "metadata": {
        "id": "ULdvX1jCVXD0"
      }
    },
    {
      "cell_type": "markdown",
      "source": [
        "### **Theorem 3.3.23**"
      ],
      "metadata": {
        "id": "H4jyMHXdVcN7"
      }
    },
    {
      "cell_type": "markdown",
      "source": [
        "Suppose that  $f : \\mathbb{R}^d\\to\\mathbb{R}$ is twice continuously differentiable. The step size is chosen to minimize\n",
        "$$\\alpha_k = \\arg \\min_{\\alpha >0}f(\\textbf{x}^k −\\alpha\\nabla f(\\textbf{x}^k\n",
        "))$$\n",
        "Then steepest descent started from any $\\textbf{x}^0$ produces a sequence $\\textbf{x}^k$, $k = 1,2,\\cdots$ such that if $\\nabla f(\\textbf{x}^k)\\neq 0$, then\n",
        "$$f(\\textbf{x}^{k+1}) \\leq f(\\textbf{x}^k), \\forall k \\geq 1$$"
      ],
      "metadata": {
        "id": "gGTSU0YSVeFs"
      }
    },
    {
      "cell_type": "code",
      "source": [
        "def f(x):   # The rosenbrock function\n",
        " return .5*(1 - x[0])**2 + (x[1] - x[0]**2)**2\n",
        "optimize.minimize(f, [2, -1], method=\"CG\")"
      ],
      "metadata": {
        "colab": {
          "base_uri": "https://localhost:8080/"
        },
        "id": "FvZy0RTFVJAA",
        "outputId": "b1ce1cd7-83c0-48ff-f0c5-e3218c6fcc09"
      },
      "execution_count": 12,
      "outputs": [
        {
          "output_type": "execute_result",
          "data": {
            "text/plain": [
              " message: Optimization terminated successfully.\n",
              " success: True\n",
              "  status: 0\n",
              "     fun: 1.6503729082243953e-11\n",
              "       x: [ 1.000e+00  1.000e+00]\n",
              "     nit: 13\n",
              "     jac: [-6.153e-06  2.538e-07]\n",
              "    nfev: 81\n",
              "    njev: 27"
            ]
          },
          "metadata": {},
          "execution_count": 12
        }
      ]
    },
    {
      "cell_type": "markdown",
      "source": [
        "## Source"
      ],
      "metadata": {
        "id": "jWGi0hMsVkdf"
      }
    },
    {
      "cell_type": "markdown",
      "source": [
        "madonnaojorin on Github"
      ],
      "metadata": {
        "id": "eBrH_HfXVmpM"
      }
    }
  ]
}