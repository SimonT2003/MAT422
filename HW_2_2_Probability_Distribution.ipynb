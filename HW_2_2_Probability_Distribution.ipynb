{
  "nbformat": 4,
  "nbformat_minor": 0,
  "metadata": {
    "colab": {
      "provenance": [],
      "authorship_tag": "ABX9TyPCE2wUyKmpwo+mkbhaZIBG",
      "include_colab_link": true
    },
    "kernelspec": {
      "name": "python3",
      "display_name": "Python 3"
    },
    "language_info": {
      "name": "python"
    }
  },
  "cells": [
    {
      "cell_type": "markdown",
      "metadata": {
        "id": "view-in-github",
        "colab_type": "text"
      },
      "source": [
        "<a href=\"https://colab.research.google.com/github/SimonT2003/MAT422/blob/main/HW_2_2_Probability_Distribution.ipynb\" target=\"_parent\"><img src=\"https://colab.research.google.com/assets/colab-badge.svg\" alt=\"Open In Colab\"/></a>"
      ]
    },
    {
      "cell_type": "markdown",
      "source": [
        "# **Probability Distribution in Python**"
      ],
      "metadata": {
        "id": "tuN68OCq9P2N"
      }
    },
    {
      "cell_type": "markdown",
      "source": [
        "## **What is a Probability Distribution?**"
      ],
      "metadata": {
        "id": "8WnZ-tVo-A6B"
      }
    },
    {
      "cell_type": "markdown",
      "source": [
        "A probability distribution is the mathematical function that gives the probabilities of occurrence of different possible outcomes for an experiment. We\n",
        "will discuss both discrete and continuous probability distributions."
      ],
      "metadata": {
        "id": "-8YXD3or-H6E"
      }
    },
    {
      "cell_type": "markdown",
      "source": [
        "## **What is an Experiment?**"
      ],
      "metadata": {
        "id": "qWtdFkuZ-8O1"
      }
    },
    {
      "cell_type": "markdown",
      "source": [
        "An experiment is any activity or process whose outcome is subject to uncertainty. In general, the word experiment may represent a\n",
        "planned or carefully controlled laboratory testing situation.\n",
        "\n",
        "In probability,\n",
        "we use it here in a much wider sense. Thus experiments that may be of\n",
        "interest include ***tossing a coin once or several times***, ***selecting a card or cards***\n",
        "***from a deck***, ***weighing a loaf of bread***, ***ascertaining the commuting time from***\n",
        "***home to work on a particular morning***, **obtaining blood types from a group\n",
        "of individuals**, or ***measuring blood pressures of human beings***."
      ],
      "metadata": {
        "id": "orxPisZ2-S3r"
      }
    },
    {
      "cell_type": "markdown",
      "source": [
        "## **2.2.1 Probability Axioms**"
      ],
      "metadata": {
        "id": "Ea8i6O7pAbMH"
      }
    },
    {
      "cell_type": "markdown",
      "source": [
        "### **2.2.1.1 Sample Spaces and Events**"
      ],
      "metadata": {
        "id": "RLBCLu_NAmxh"
      }
    },
    {
      "cell_type": "markdown",
      "source": [
        "#### **Definition 2.2.1**"
      ],
      "metadata": {
        "id": "hnBxQZIxAwKV"
      }
    },
    {
      "cell_type": "markdown",
      "source": [
        "The **sample space** of an experiment, denoted by $S$, is the set\n",
        "of all possible outcomes of that experiment.\n",
        "\n",
        "In probability, the focus will be not only in the individual outcomes of\n",
        "$S$ but also in various collections of outcomes from $S$. In fact, it is often more\n",
        "meaningful to study collection of outcomes."
      ],
      "metadata": {
        "id": "qtv04NH6A-hL"
      }
    },
    {
      "cell_type": "markdown",
      "source": [
        "### **Definition 2.2.2**"
      ],
      "metadata": {
        "id": "PI22jpchBLjV"
      }
    },
    {
      "cell_type": "markdown",
      "source": [
        "An **event** is any collection (subset) of outcomes contained in\n",
        "the sample space $S$. An event is *simple* if it consists of exactly one outcome\n",
        "and compound if it consists of more than one outcome."
      ],
      "metadata": {
        "id": "Nlqr9bSlBqxh"
      }
    },
    {
      "cell_type": "markdown",
      "source": [
        "### **Definition 2.2.3**"
      ],
      "metadata": {
        "id": "bWYroKOeCJ2M"
      }
    },
    {
      "cell_type": "markdown",
      "source": [
        "Given an **experiment** and a **sample space** $S$, the **Probability Distribution** is a function which assign to each event $A$ a number $P(A)$, called\n",
        "the probability of the event $A$, which will give a precise measure of the chance\n",
        "that $A$ will occur. The probability assignments should satisfy the following\n",
        "axioms (basic properties) of probability.\n",
        "\n",
        "\n",
        "\n",
        "*   For any event $A$, $0 ≤ P(A) ≤ 1$.\n",
        "*   $P(S)=1$.\n",
        "*   If $A_1, A_2, A_3,...$ is an infinite collection of disjoint events, then\n",
        "\n",
        "\\begin{align}\n",
        "P(A_1 ∪ A_2∪A_3∪...)=\\sum_{i=1}^{\\infty} P(A_i) \\\n",
        "\\end{align}\n",
        "\n",
        "*  For any event $A$, $P(A)+P(A^c)=1$, from which $P(A)=1-P(A^c)$\n",
        "*  for any two events $A$ and $B$,\n",
        "\\begin{align}\n",
        "P(A ∪B)=P(A)+P(B)-P(A ∩ B)\n",
        "\\end{align}\n"
      ],
      "metadata": {
        "id": "3xB-HBP6CN4B"
      }
    },
    {
      "cell_type": "markdown",
      "source": [
        "### **Example 2.2.4**"
      ],
      "metadata": {
        "id": "0I7y1OM3MyQ3"
      }
    },
    {
      "cell_type": "markdown",
      "source": [
        "In many experiments consisting of $N$\n",
        " outcomes, it is reasonable to assign equal probabilities to all $N$ simple events. That is, if there are\n",
        " equally likely outcomes, the probability for each is $1/N$. Now consider an event $A$, with $N(A)$\n",
        " denoting the number of outcomes contained in $A$\n",
        " and we have\n",
        "\n",
        " \\begin{align}\n",
        "P(A)=\\frac{N(A)}{N}\n",
        " \\end{align}"
      ],
      "metadata": {
        "id": "TY3ypOC2NDAc"
      }
    },
    {
      "cell_type": "markdown",
      "source": [
        "## **2.2.2 Conditional Probability**"
      ],
      "metadata": {
        "id": "HkaxltkmOBdJ"
      }
    },
    {
      "cell_type": "markdown",
      "source": [
        "### **Definition 2.2.5**"
      ],
      "metadata": {
        "id": "hiUGnHcdOKAa"
      }
    },
    {
      "cell_type": "markdown",
      "source": [
        "For any two events $A$ and $B$ with $P(B) > 0$, the conditional probability of $A$ given $B$ has occurred is defined by\n",
        "\n",
        "\\begin{align}\n",
        "P(A | B)=\\frac{P(A∩B)}{P(B)}\n",
        "\\end{align}\n",
        "\n",
        "Conditional Probability give a rise to the multiplication rule\n",
        "\n",
        "\\begin{align}\n",
        "P(A ∩B)= P(A|B) ⋅ P(B)\n",
        "\\end{align}"
      ],
      "metadata": {
        "id": "43a4C9_SObeh"
      }
    },
    {
      "cell_type": "markdown",
      "source": [
        "### **Definition 2.2.6**"
      ],
      "metadata": {
        "id": "PXngtrDtQGH1"
      }
    },
    {
      "cell_type": "markdown",
      "source": [
        "Two events $A$ and $B$ are independent if $P(A|B)=P(A)$ (or $P(A ∩ B)=P(A)⋅P(B)$), and are dependent otherwise."
      ],
      "metadata": {
        "id": "V8DsPaMqQM7v"
      }
    },
    {
      "cell_type": "markdown",
      "source": [
        "### **Definition 2.2.7**"
      ],
      "metadata": {
        "id": "82euU1kVRNk3"
      }
    },
    {
      "cell_type": "markdown",
      "source": [
        "Events $A_1,...,A_n$ are mutually independent if for every k ( k = 2, 3, ..., n) and every subset of indices $i_1,i_2,...,i_k$,\n",
        "\n",
        "\\begin{align}\n",
        "P(A_{i_{1}}∩A_{i_{2}} ∩ ... ∩A_{i_{k}})=P(A_{i_{1}})⋅P(A_{i_{2}})⋅⋅⋅P(A_{i_{k}})\n",
        "\\end{align}"
      ],
      "metadata": {
        "id": "I8B5Fcy6RYGr"
      }
    },
    {
      "cell_type": "markdown",
      "source": [
        "Example of conditional probability in Python:\n",
        "\n",
        "Suppose we send out a survey to 300 individuals asking them which sport they like best: baseball, basketball, football, or soccer."
      ],
      "metadata": {
        "id": "UwLpQxBqA0iZ"
      }
    },
    {
      "cell_type": "code",
      "source": [
        "import pandas as pd\n",
        "import numpy as np"
      ],
      "metadata": {
        "id": "yHHy5CDC_qR1"
      },
      "execution_count": 16,
      "outputs": []
    },
    {
      "cell_type": "code",
      "source": [
        "#create pandas DataFrame with raw data\n",
        "df = pd.DataFrame({'gender': np.repeat(np.array(['Male', 'Female']), 150),\n",
        "                   'sport': np.repeat(np.array(['Baseball', 'Basketball', 'Football',\n",
        "                                                'Soccer', 'Baseball', 'Basketball',\n",
        "                                                'Football', 'Soccer']),\n",
        "                                    (34, 40, 58, 18, 34, 52, 20, 44))})"
      ],
      "metadata": {
        "id": "-DpqtxJ0BJW2"
      },
      "execution_count": null,
      "outputs": []
    },
    {
      "cell_type": "code",
      "source": [
        "#produce contingency table to summarize raw data\n",
        "survey_data = pd.crosstab(index=df['gender'], columns=df['sport'], margins=True)\n",
        "\n",
        "#view contingency table\n",
        "survey_data"
      ],
      "metadata": {
        "colab": {
          "base_uri": "https://localhost:8080/",
          "height": 175
        },
        "id": "j48d0dBQBcx3",
        "outputId": "6fda09ee-db33-45ac-c05e-9e0326679da1"
      },
      "execution_count": null,
      "outputs": [
        {
          "output_type": "execute_result",
          "data": {
            "text/plain": [
              "sport   Baseball  Basketball  Football  Soccer  All\n",
              "gender                                             \n",
              "Female        34          52        20      44  150\n",
              "Male          34          40        58      18  150\n",
              "All           68          92        78      62  300"
            ],
            "text/html": [
              "\n",
              "  <div id=\"df-d78af4b4-ad83-4adf-bc30-48ffa4027968\" class=\"colab-df-container\">\n",
              "    <div>\n",
              "<style scoped>\n",
              "    .dataframe tbody tr th:only-of-type {\n",
              "        vertical-align: middle;\n",
              "    }\n",
              "\n",
              "    .dataframe tbody tr th {\n",
              "        vertical-align: top;\n",
              "    }\n",
              "\n",
              "    .dataframe thead th {\n",
              "        text-align: right;\n",
              "    }\n",
              "</style>\n",
              "<table border=\"1\" class=\"dataframe\">\n",
              "  <thead>\n",
              "    <tr style=\"text-align: right;\">\n",
              "      <th>sport</th>\n",
              "      <th>Baseball</th>\n",
              "      <th>Basketball</th>\n",
              "      <th>Football</th>\n",
              "      <th>Soccer</th>\n",
              "      <th>All</th>\n",
              "    </tr>\n",
              "    <tr>\n",
              "      <th>gender</th>\n",
              "      <th></th>\n",
              "      <th></th>\n",
              "      <th></th>\n",
              "      <th></th>\n",
              "      <th></th>\n",
              "    </tr>\n",
              "  </thead>\n",
              "  <tbody>\n",
              "    <tr>\n",
              "      <th>Female</th>\n",
              "      <td>34</td>\n",
              "      <td>52</td>\n",
              "      <td>20</td>\n",
              "      <td>44</td>\n",
              "      <td>150</td>\n",
              "    </tr>\n",
              "    <tr>\n",
              "      <th>Male</th>\n",
              "      <td>34</td>\n",
              "      <td>40</td>\n",
              "      <td>58</td>\n",
              "      <td>18</td>\n",
              "      <td>150</td>\n",
              "    </tr>\n",
              "    <tr>\n",
              "      <th>All</th>\n",
              "      <td>68</td>\n",
              "      <td>92</td>\n",
              "      <td>78</td>\n",
              "      <td>62</td>\n",
              "      <td>300</td>\n",
              "    </tr>\n",
              "  </tbody>\n",
              "</table>\n",
              "</div>\n",
              "    <div class=\"colab-df-buttons\">\n",
              "\n",
              "  <div class=\"colab-df-container\">\n",
              "    <button class=\"colab-df-convert\" onclick=\"convertToInteractive('df-d78af4b4-ad83-4adf-bc30-48ffa4027968')\"\n",
              "            title=\"Convert this dataframe to an interactive table.\"\n",
              "            style=\"display:none;\">\n",
              "\n",
              "  <svg xmlns=\"http://www.w3.org/2000/svg\" height=\"24px\" viewBox=\"0 -960 960 960\">\n",
              "    <path d=\"M120-120v-720h720v720H120Zm60-500h600v-160H180v160Zm220 220h160v-160H400v160Zm0 220h160v-160H400v160ZM180-400h160v-160H180v160Zm440 0h160v-160H620v160ZM180-180h160v-160H180v160Zm440 0h160v-160H620v160Z\"/>\n",
              "  </svg>\n",
              "    </button>\n",
              "\n",
              "  <style>\n",
              "    .colab-df-container {\n",
              "      display:flex;\n",
              "      gap: 12px;\n",
              "    }\n",
              "\n",
              "    .colab-df-convert {\n",
              "      background-color: #E8F0FE;\n",
              "      border: none;\n",
              "      border-radius: 50%;\n",
              "      cursor: pointer;\n",
              "      display: none;\n",
              "      fill: #1967D2;\n",
              "      height: 32px;\n",
              "      padding: 0 0 0 0;\n",
              "      width: 32px;\n",
              "    }\n",
              "\n",
              "    .colab-df-convert:hover {\n",
              "      background-color: #E2EBFA;\n",
              "      box-shadow: 0px 1px 2px rgba(60, 64, 67, 0.3), 0px 1px 3px 1px rgba(60, 64, 67, 0.15);\n",
              "      fill: #174EA6;\n",
              "    }\n",
              "\n",
              "    .colab-df-buttons div {\n",
              "      margin-bottom: 4px;\n",
              "    }\n",
              "\n",
              "    [theme=dark] .colab-df-convert {\n",
              "      background-color: #3B4455;\n",
              "      fill: #D2E3FC;\n",
              "    }\n",
              "\n",
              "    [theme=dark] .colab-df-convert:hover {\n",
              "      background-color: #434B5C;\n",
              "      box-shadow: 0px 1px 3px 1px rgba(0, 0, 0, 0.15);\n",
              "      filter: drop-shadow(0px 1px 2px rgba(0, 0, 0, 0.3));\n",
              "      fill: #FFFFFF;\n",
              "    }\n",
              "  </style>\n",
              "\n",
              "    <script>\n",
              "      const buttonEl =\n",
              "        document.querySelector('#df-d78af4b4-ad83-4adf-bc30-48ffa4027968 button.colab-df-convert');\n",
              "      buttonEl.style.display =\n",
              "        google.colab.kernel.accessAllowed ? 'block' : 'none';\n",
              "\n",
              "      async function convertToInteractive(key) {\n",
              "        const element = document.querySelector('#df-d78af4b4-ad83-4adf-bc30-48ffa4027968');\n",
              "        const dataTable =\n",
              "          await google.colab.kernel.invokeFunction('convertToInteractive',\n",
              "                                                    [key], {});\n",
              "        if (!dataTable) return;\n",
              "\n",
              "        const docLinkHtml = 'Like what you see? Visit the ' +\n",
              "          '<a target=\"_blank\" href=https://colab.research.google.com/notebooks/data_table.ipynb>data table notebook</a>'\n",
              "          + ' to learn more about interactive tables.';\n",
              "        element.innerHTML = '';\n",
              "        dataTable['output_type'] = 'display_data';\n",
              "        await google.colab.output.renderOutput(dataTable, element);\n",
              "        const docLink = document.createElement('div');\n",
              "        docLink.innerHTML = docLinkHtml;\n",
              "        element.appendChild(docLink);\n",
              "      }\n",
              "    </script>\n",
              "  </div>\n",
              "\n",
              "\n",
              "<div id=\"df-b366adaf-5589-461b-bb89-effd24711608\">\n",
              "  <button class=\"colab-df-quickchart\" onclick=\"quickchart('df-b366adaf-5589-461b-bb89-effd24711608')\"\n",
              "            title=\"Suggest charts.\"\n",
              "            style=\"display:none;\">\n",
              "\n",
              "<svg xmlns=\"http://www.w3.org/2000/svg\" height=\"24px\"viewBox=\"0 0 24 24\"\n",
              "     width=\"24px\">\n",
              "    <g>\n",
              "        <path d=\"M19 3H5c-1.1 0-2 .9-2 2v14c0 1.1.9 2 2 2h14c1.1 0 2-.9 2-2V5c0-1.1-.9-2-2-2zM9 17H7v-7h2v7zm4 0h-2V7h2v10zm4 0h-2v-4h2v4z\"/>\n",
              "    </g>\n",
              "</svg>\n",
              "  </button>\n",
              "\n",
              "<style>\n",
              "  .colab-df-quickchart {\n",
              "      --bg-color: #E8F0FE;\n",
              "      --fill-color: #1967D2;\n",
              "      --hover-bg-color: #E2EBFA;\n",
              "      --hover-fill-color: #174EA6;\n",
              "      --disabled-fill-color: #AAA;\n",
              "      --disabled-bg-color: #DDD;\n",
              "  }\n",
              "\n",
              "  [theme=dark] .colab-df-quickchart {\n",
              "      --bg-color: #3B4455;\n",
              "      --fill-color: #D2E3FC;\n",
              "      --hover-bg-color: #434B5C;\n",
              "      --hover-fill-color: #FFFFFF;\n",
              "      --disabled-bg-color: #3B4455;\n",
              "      --disabled-fill-color: #666;\n",
              "  }\n",
              "\n",
              "  .colab-df-quickchart {\n",
              "    background-color: var(--bg-color);\n",
              "    border: none;\n",
              "    border-radius: 50%;\n",
              "    cursor: pointer;\n",
              "    display: none;\n",
              "    fill: var(--fill-color);\n",
              "    height: 32px;\n",
              "    padding: 0;\n",
              "    width: 32px;\n",
              "  }\n",
              "\n",
              "  .colab-df-quickchart:hover {\n",
              "    background-color: var(--hover-bg-color);\n",
              "    box-shadow: 0 1px 2px rgba(60, 64, 67, 0.3), 0 1px 3px 1px rgba(60, 64, 67, 0.15);\n",
              "    fill: var(--button-hover-fill-color);\n",
              "  }\n",
              "\n",
              "  .colab-df-quickchart-complete:disabled,\n",
              "  .colab-df-quickchart-complete:disabled:hover {\n",
              "    background-color: var(--disabled-bg-color);\n",
              "    fill: var(--disabled-fill-color);\n",
              "    box-shadow: none;\n",
              "  }\n",
              "\n",
              "  .colab-df-spinner {\n",
              "    border: 2px solid var(--fill-color);\n",
              "    border-color: transparent;\n",
              "    border-bottom-color: var(--fill-color);\n",
              "    animation:\n",
              "      spin 1s steps(1) infinite;\n",
              "  }\n",
              "\n",
              "  @keyframes spin {\n",
              "    0% {\n",
              "      border-color: transparent;\n",
              "      border-bottom-color: var(--fill-color);\n",
              "      border-left-color: var(--fill-color);\n",
              "    }\n",
              "    20% {\n",
              "      border-color: transparent;\n",
              "      border-left-color: var(--fill-color);\n",
              "      border-top-color: var(--fill-color);\n",
              "    }\n",
              "    30% {\n",
              "      border-color: transparent;\n",
              "      border-left-color: var(--fill-color);\n",
              "      border-top-color: var(--fill-color);\n",
              "      border-right-color: var(--fill-color);\n",
              "    }\n",
              "    40% {\n",
              "      border-color: transparent;\n",
              "      border-right-color: var(--fill-color);\n",
              "      border-top-color: var(--fill-color);\n",
              "    }\n",
              "    60% {\n",
              "      border-color: transparent;\n",
              "      border-right-color: var(--fill-color);\n",
              "    }\n",
              "    80% {\n",
              "      border-color: transparent;\n",
              "      border-right-color: var(--fill-color);\n",
              "      border-bottom-color: var(--fill-color);\n",
              "    }\n",
              "    90% {\n",
              "      border-color: transparent;\n",
              "      border-bottom-color: var(--fill-color);\n",
              "    }\n",
              "  }\n",
              "</style>\n",
              "\n",
              "  <script>\n",
              "    async function quickchart(key) {\n",
              "      const quickchartButtonEl =\n",
              "        document.querySelector('#' + key + ' button');\n",
              "      quickchartButtonEl.disabled = true;  // To prevent multiple clicks.\n",
              "      quickchartButtonEl.classList.add('colab-df-spinner');\n",
              "      try {\n",
              "        const charts = await google.colab.kernel.invokeFunction(\n",
              "            'suggestCharts', [key], {});\n",
              "      } catch (error) {\n",
              "        console.error('Error during call to suggestCharts:', error);\n",
              "      }\n",
              "      quickchartButtonEl.classList.remove('colab-df-spinner');\n",
              "      quickchartButtonEl.classList.add('colab-df-quickchart-complete');\n",
              "    }\n",
              "    (() => {\n",
              "      let quickchartButtonEl =\n",
              "        document.querySelector('#df-b366adaf-5589-461b-bb89-effd24711608 button');\n",
              "      quickchartButtonEl.style.display =\n",
              "        google.colab.kernel.accessAllowed ? 'block' : 'none';\n",
              "    })();\n",
              "  </script>\n",
              "</div>\n",
              "    </div>\n",
              "  </div>\n"
            ]
          },
          "metadata": {},
          "execution_count": 4
        }
      ]
    },
    {
      "cell_type": "code",
      "source": [
        "#extract value in second row and first column\n",
        "survey_data.iloc[1, 0]\n",
        "\n",
        "#calculate the probability of being male, given that individual prefers baseball\n",
        "survey_data.iloc[1, 0] / survey_data.iloc[2, 0]"
      ],
      "metadata": {
        "colab": {
          "base_uri": "https://localhost:8080/"
        },
        "id": "sf6KwNUvB29e",
        "outputId": "4b81a947-aefb-4ce5-b45c-128e360b5583"
      },
      "execution_count": null,
      "outputs": [
        {
          "output_type": "execute_result",
          "data": {
            "text/plain": [
              "0.5"
            ]
          },
          "metadata": {},
          "execution_count": 4
        }
      ]
    },
    {
      "cell_type": "code",
      "source": [
        "#calculate the probability of preferring basketball, given that individual is female\n",
        "survey_data.iloc[0, 1] / survey_data.iloc[0, 4]"
      ],
      "metadata": {
        "colab": {
          "base_uri": "https://localhost:8080/"
        },
        "id": "i5VMIZy8Cnk-",
        "outputId": "846c2cb5-df51-4f90-fde8-7dfc7d62ec80"
      },
      "execution_count": null,
      "outputs": [
        {
          "output_type": "execute_result",
          "data": {
            "text/plain": [
              "0.3466666666666667"
            ]
          },
          "metadata": {},
          "execution_count": 5
        }
      ]
    },
    {
      "cell_type": "markdown",
      "source": [
        "## **2.2.3 Discrete Random Variable**"
      ],
      "metadata": {
        "id": "-VutQq6yDJ8T"
      }
    },
    {
      "cell_type": "markdown",
      "source": [
        "### **Definition 2.2.8**"
      ],
      "metadata": {
        "id": "AiedM4n3Ec0s"
      }
    },
    {
      "cell_type": "markdown",
      "source": [
        "For a given sample space $S$ of some experiment, a random\n",
        "variable is any rule that associates a number with each outcome in $S$. Mathematically, a random variable is a function whose domain is the sample space\n",
        "and whose range is the set of real numbers."
      ],
      "metadata": {
        "id": "B8jLaaFMEr6a"
      }
    },
    {
      "cell_type": "markdown",
      "source": [
        "There are two different types of random variables:"
      ],
      "metadata": {
        "id": "mPpR5WWZMjUf"
      }
    },
    {
      "cell_type": "markdown",
      "source": [
        "### **Definition 2.2.9**"
      ],
      "metadata": {
        "id": "9yiNWPmuNawI"
      }
    },
    {
      "cell_type": "markdown",
      "source": [
        "A **discrete random variable** is a random variable whose possible values either constitute a finite set or else can be listed in an infinite\n",
        "sequence. A random variable is continuous if both of the following apply:\n",
        "\n",
        "1. Its set of possible values consists all numbers in a single interval on the\n",
        "number line.\n",
        "\n",
        "2. $P(X=c)=0$ for any possible value individual $c$."
      ],
      "metadata": {
        "id": "XxPTgpuUNfPH"
      }
    },
    {
      "cell_type": "markdown",
      "source": [
        "### **Definition 2.2.10**"
      ],
      "metadata": {
        "id": "w0PpmRRpOU8e"
      }
    },
    {
      "cell_type": "markdown",
      "source": [
        "The probability distribution or probability mass function\n",
        "(pmf) of a discrete random variable is defined for every number $x$ by\n",
        "\n",
        "\\begin{align}\n",
        "p(x)=P(X=x)=P(all \\space s \\in S: X(s)=x)\n",
        "\\end{align}"
      ],
      "metadata": {
        "id": "UC_rqHQZOZZ4"
      }
    },
    {
      "cell_type": "markdown",
      "source": [
        "### **Definition 2.2.11**"
      ],
      "metadata": {
        "id": "Fw7szV_bQCpw"
      }
    },
    {
      "cell_type": "markdown",
      "source": [
        "The cumulative distribution function (cdf) $F(x)$ of a discrete random variable variable $X$ with pmfp($x$) is defined for every number $x$\n",
        "by\n",
        "\n",
        "\\begin{align}\n",
        "F(x)=P(X≤x)=\\sum_{y:y≤x} p(y)\n",
        "\\end{align}"
      ],
      "metadata": {
        "id": "VevkAuU6QHB2"
      }
    },
    {
      "cell_type": "code",
      "source": [
        "from itertools import product\n",
        "import seaborn as sns\n",
        "import pandas as pd\n",
        "import matplotlib.pyplot as plt"
      ],
      "metadata": {
        "id": "QQl2xfl2TDCX"
      },
      "execution_count": null,
      "outputs": []
    },
    {
      "cell_type": "code",
      "source": [
        "# Marvel Comics Example\n",
        "stones = ['Space', 'Reality', 'Mind', 'Time', 'Power', 'Soul']\n",
        "\n",
        "# assign scores to each stone\n",
        "stones_scores = dict(zip(stones, range(1, 7)))\n",
        "\n",
        "# compute overall scores for choosing two stones\n",
        "X_omega = {\n",
        "    (stone1, stone2): stones_scores[stone1] + stones_scores[stone2]\n",
        "    for stone1, stone2 in product(stones, repeat=2)\n",
        "}\n",
        "\n",
        "# total elements in space space\n",
        "total_sample_outcomes = len(X_omega)\n",
        "\n",
        "# count frequencies of each value the random variable can assume\n",
        "frequencies = dict.fromkeys(X_omega.values(), 0)\n",
        "for sample_outcome, overall_score in X_omega.items():\n",
        "    frequencies[overall_score] += 1\n",
        "\n",
        "# compute probabilities\n",
        "probabilities = pd.DataFrame(\n",
        "    data=[\n",
        "        [value, frequency / total_sample_outcomes]\n",
        "        for value, frequency in frequencies.items()\n",
        "    ],\n",
        "    columns=['Total Score of Choosing Two Infinity Stones', 'Probability']\n",
        ")\n",
        "\n",
        "# plot PMF as barplot\n",
        "ax = sns.barplot(\n",
        "    x='Total Score of Choosing Two Infinity Stones',\n",
        "    y='Probability',\n",
        "    data=probabilities,\n",
        ")\n",
        "plt.savefig(\"pmf\")"
      ],
      "metadata": {
        "id": "lThYjYjZD5L5",
        "colab": {
          "base_uri": "https://localhost:8080/",
          "height": 449
        },
        "outputId": "500350e3-1b10-4c83-f700-3bffab92363c"
      },
      "execution_count": null,
      "outputs": [
        {
          "output_type": "display_data",
          "data": {
            "text/plain": [
              "<Figure size 640x480 with 1 Axes>"
            ],
            "image/png": "[encoded data removed]"
          },
          "metadata": {}
        }
      ]
    },
    {
      "cell_type": "markdown",
      "source": [
        "### **Example 2.2.12**"
      ],
      "metadata": {
        "id": "k2wSJNmVglas"
      }
    },
    {
      "cell_type": "markdown",
      "source": [
        "In many cases there are only two possible values associated\n",
        "with the random variable. Any random variable whose only possible values\n",
        "are $0$ and $1$ is called a **Bernoulli random variable**. Given Bernoulli experiments\n",
        "with outcomes: S (success) and F (failure). The binomial random variable $X$\n",
        "associated with independent Bernoulli experiment consisting of n trials is\n",
        "defined as\n",
        "\n",
        "\\begin{align}\n",
        "X= the \\space number \\space of \\space S's \\space among \\space the \\space n \\space trials\n",
        "\\end{align}"
      ],
      "metadata": {
        "id": "VczRG36mgrZl"
      }
    },
    {
      "cell_type": "markdown",
      "source": [
        "The probability of success is constant *p* from trial to trial. The pmf of $X$ has the form\n",
        "\n",
        "\\begin{align}\n",
        "b(x;n,p)=\\begin{cases}\n",
        "      \\binom{n}{x}p^x(1-p)^{n-x} & x=0,1,2,3,...,n \\\\\n",
        "      0, & otherwise\\\\\n",
        "   \\end{cases}\n",
        "\\end{align}\n"
      ],
      "metadata": {
        "id": "pVMP8U6gjAYv"
      }
    },
    {
      "cell_type": "markdown",
      "source": [
        "The cdf of $X$ has the form\n",
        "\n",
        "\\begin{align}\n",
        "B(x;n,p)=P(X≤ x)=\\sum_{y≤x} b(x;n,p)=\\sum_{y=0}^{x} \\binom{n}{y}p^x(1-p)^{n-x}\n",
        "\\end{align}"
      ],
      "metadata": {
        "id": "LyTLxOg_lYp6"
      }
    },
    {
      "cell_type": "code",
      "source": [
        "# Import the required libraries\n",
        "from scipy.stats import bernoulli\n",
        "import matplotlib.pyplot as plt\n",
        "\n",
        "# Instance of Bernoulli distribution with parameter p = 0.8\n",
        "bd=bernoulli(0.8)\n",
        "\n",
        "# Outcome of random variable either 0 or 1\n",
        "x=[0,1]\n",
        "\n",
        "# For the visualization of the bar plot of Bernoulli's distribution\n",
        "plt.figure(figsize=(5,5))\n",
        "plt.xlim(-2, 2)\n",
        "plt.bar(x, bd.pmf(x), color='blue')\n",
        "\n",
        "# For labelling of Bar plot\n",
        "plt.title('Bernoulli distribution (p=0.8)', fontsize='15')\n",
        "plt.xlabel('Values of random variable x (0, 1)', fontsize='15')\n",
        "plt.ylabel('Probability', fontsize='15')\n",
        "\n",
        "plt.show()"
      ],
      "metadata": {
        "colab": {
          "base_uri": "https://localhost:8080/",
          "height": 495
        },
        "id": "nu9M9soagq3d",
        "outputId": "03985479-2ab9-4a84-c42d-d3ce41703ffa"
      },
      "execution_count": null,
      "outputs": [
        {
          "output_type": "display_data",
          "data": {
            "text/plain": [
              "<Figure size 500x500 with 1 Axes>"
            ],
            "image/png": "[encoded data removed]"
          },
          "metadata": {}
        }
      ]
    },
    {
      "cell_type": "markdown",
      "source": [
        "### **Example 2.2.13**"
      ],
      "metadata": {
        "id": "H-NVnkz4pRKH"
      }
    },
    {
      "cell_type": "markdown",
      "source": [
        "The Poisson distribution is a discrete probability distribution that describes the probability of a given number of events occurring in\n",
        "a fixed interval of time or space if these events occur with a known constant\n",
        "mean rate and independently of the time since the last event. A discrete random variable $X$ is said to have a Poisson distribution with parameter\n",
        "$μ$ if the\n",
        "pmf of $X$ is\n",
        "\n",
        "The pmf of $X$ has the form\n",
        "\n",
        "\\begin{align}\n",
        "p(x;μ)=\\frac{e^{-μ}μ^x}{x!}, x=0,1,2,3,...\n",
        "\\end{align}"
      ],
      "metadata": {
        "id": "4V_uxdzSpS-i"
      }
    },
    {
      "cell_type": "code",
      "source": [
        "#Poisson Distribution\n",
        "from numpy import random\n",
        "import matplotlib.pyplot as plt\n",
        "import seaborn as sns\n",
        "\n",
        "sns.distplot(random.poisson(lam=2, size=1000), kde=False)\n",
        "\n",
        "plt.show()"
      ],
      "metadata": {
        "colab": {
          "base_uri": "https://localhost:8080/",
          "height": 621
        },
        "id": "kMDLZbSCqo89",
        "outputId": "12e9a788-b8f4-40f4-f5c1-9104974458cf"
      },
      "execution_count": 4,
      "outputs": [
        {
          "output_type": "stream",
          "name": "stderr",
          "text": [
            "<ipython-input-4-a1e1a78d993e>:5: UserWarning: \n",
            "\n",
            "`distplot` is a deprecated function and will be removed in seaborn v0.14.0.\n",
            "\n",
            "Please adapt your code to use either `displot` (a figure-level function with\n",
            "similar flexibility) or `histplot` (an axes-level function for histograms).\n",
            "\n",
            "For a guide to updating your code to use the new functions, please see\n",
            "https://gist.github.com/mwaskom/de44147ed2974457ad6372750bbe5751\n",
            "\n",
            "  sns.distplot(random.poisson(lam=2, size=1000), kde=False)\n"
          ]
        },
        {
          "output_type": "display_data",
          "data": {
            "text/plain": [
              "<Figure size 640x480 with 1 Axes>"
            ],
            "image/png": "[encoded data removed]"
          },
          "metadata": {}
        }
      ]
    },
    {
      "cell_type": "code",
      "source": [
        "# Uniform distribution\n",
        "# import uniform distribution\n",
        "from scipy.stats import uniform\n",
        "\n",
        "# random numbers from uniform distribution\n",
        "n = 10000\n",
        "start = 10\n",
        "width = 20\n",
        "data_uniform = uniform.rvs(size=n, loc = start, scale=width)\n",
        "\n",
        "ax = sns.distplot(data_uniform,\n",
        "                  bins=100,\n",
        "                  kde=True,\n",
        "                  color='purple',\n",
        "                  hist_kws={\"linewidth\": 15,'alpha':1})\n",
        "ax.set(xlabel='Uniform Distribution ', ylabel='Frequency')"
      ],
      "metadata": {
        "colab": {
          "base_uri": "https://localhost:8080/",
          "height": 657
        },
        "id": "h9_5AjkxpSSr",
        "outputId": "5b03c913-121b-43e9-8bb5-db8835e692d2"
      },
      "execution_count": 5,
      "outputs": [
        {
          "output_type": "stream",
          "name": "stderr",
          "text": [
            "<ipython-input-5-f5ff73fe6d28>:11: UserWarning: \n",
            "\n",
            "`distplot` is a deprecated function and will be removed in seaborn v0.14.0.\n",
            "\n",
            "Please adapt your code to use either `displot` (a figure-level function with\n",
            "similar flexibility) or `histplot` (an axes-level function for histograms).\n",
            "\n",
            "For a guide to updating your code to use the new functions, please see\n",
            "https://gist.github.com/mwaskom/de44147ed2974457ad6372750bbe5751\n",
            "\n",
            "  ax = sns.distplot(data_uniform,\n"
          ]
        },
        {
          "output_type": "execute_result",
          "data": {
            "text/plain": [
              "[Text(0.5, 0, 'Uniform Distribution '), Text(0, 0.5, 'Frequency')]"
            ]
          },
          "metadata": {},
          "execution_count": 5
        },
        {
          "output_type": "display_data",
          "data": {
            "text/plain": [
              "<Figure size 640x480 with 1 Axes>"
            ],
            "image/png": "[encoded data removed]"
          },
          "metadata": {}
        }
      ]
    },
    {
      "cell_type": "code",
      "source": [
        "# Normal Distribution\n",
        "from scipy.stats import norm\n",
        "# generate random numbers from N(0,1)\n",
        "data_normal = norm.rvs(size=10000,loc=0,scale=1)\n",
        "\n",
        "ax = sns.distplot(data_normal,\n",
        "                  bins=100,\n",
        "                  kde=True,\n",
        "                  color='pink',\n",
        "                  hist_kws={\"linewidth\": 15,'alpha':1})\n",
        "ax.set(xlabel='Normal Distribution', ylabel='Frequency')"
      ],
      "metadata": {
        "colab": {
          "base_uri": "https://localhost:8080/",
          "height": 657
        },
        "id": "03JFFjFYr5YH",
        "outputId": "b979487e-ce6f-48cd-f2c4-7ad9e9a9c4e0"
      },
      "execution_count": 6,
      "outputs": [
        {
          "output_type": "stream",
          "name": "stderr",
          "text": [
            "<ipython-input-6-e0c7dd5ab07c>:6: UserWarning: \n",
            "\n",
            "`distplot` is a deprecated function and will be removed in seaborn v0.14.0.\n",
            "\n",
            "Please adapt your code to use either `displot` (a figure-level function with\n",
            "similar flexibility) or `histplot` (an axes-level function for histograms).\n",
            "\n",
            "For a guide to updating your code to use the new functions, please see\n",
            "https://gist.github.com/mwaskom/de44147ed2974457ad6372750bbe5751\n",
            "\n",
            "  ax = sns.distplot(data_normal,\n"
          ]
        },
        {
          "output_type": "execute_result",
          "data": {
            "text/plain": [
              "[Text(0.5, 0, 'Normal Distribution'), Text(0, 0.5, 'Frequency')]"
            ]
          },
          "metadata": {},
          "execution_count": 6
        },
        {
          "output_type": "display_data",
          "data": {
            "text/plain": [
              "<Figure size 640x480 with 1 Axes>"
            ],
            "image/png": "[encoded data removed]"
          },
          "metadata": {}
        }
      ]
    },
    {
      "cell_type": "code",
      "source": [
        "# Gamma Distribution\n",
        "from scipy.stats import gamma\n",
        "data_gamma = gamma.rvs(a=5, size=10000)\n",
        "\n",
        "ax = sns.distplot(data_gamma,\n",
        "                  kde=True,\n",
        "                  bins=100,\n",
        "                  color='red',\n",
        "                  hist_kws={\"linewidth\": 15,'alpha':1})\n",
        "ax.set(xlabel='Gamma Distribution', ylabel='Frequency')"
      ],
      "metadata": {
        "colab": {
          "base_uri": "https://localhost:8080/",
          "height": 657
        },
        "id": "XJss2d_ksK2C",
        "outputId": "f89893fe-ca6b-4e27-89c5-1a484fa5b7b9"
      },
      "execution_count": 7,
      "outputs": [
        {
          "output_type": "stream",
          "name": "stderr",
          "text": [
            "<ipython-input-7-57f8ceb785de>:5: UserWarning: \n",
            "\n",
            "`distplot` is a deprecated function and will be removed in seaborn v0.14.0.\n",
            "\n",
            "Please adapt your code to use either `displot` (a figure-level function with\n",
            "similar flexibility) or `histplot` (an axes-level function for histograms).\n",
            "\n",
            "For a guide to updating your code to use the new functions, please see\n",
            "https://gist.github.com/mwaskom/de44147ed2974457ad6372750bbe5751\n",
            "\n",
            "  ax = sns.distplot(data_gamma,\n"
          ]
        },
        {
          "output_type": "execute_result",
          "data": {
            "text/plain": [
              "[Text(0.5, 0, 'Gamma Distribution'), Text(0, 0.5, 'Frequency')]"
            ]
          },
          "metadata": {},
          "execution_count": 7
        },
        {
          "output_type": "display_data",
          "data": {
            "text/plain": [
              "<Figure size 640x480 with 1 Axes>"
            ],
            "image/png": "[encoded data removed]"
          },
          "metadata": {}
        }
      ]
    },
    {
      "cell_type": "code",
      "source": [
        "# Exponential Distribution\n",
        "from scipy.stats import expon\n",
        "data_expon = expon.rvs(scale=1,loc=0,size=1000)\n",
        "\n",
        "ax = sns.distplot(data_expon,\n",
        "                  kde=True,\n",
        "                  bins=100,\n",
        "                  color='green',\n",
        "                  hist_kws={\"linewidth\": 15,'alpha':1})\n",
        "ax.set(xlabel='Exponential Distribution', ylabel='Frequency')"
      ],
      "metadata": {
        "colab": {
          "base_uri": "https://localhost:8080/",
          "height": 657
        },
        "id": "JPFTFcwAsck_",
        "outputId": "35e4113e-4a39-4963-a8c0-90cd056a3686"
      },
      "execution_count": 9,
      "outputs": [
        {
          "output_type": "stream",
          "name": "stderr",
          "text": [
            "<ipython-input-9-7006ac2b1ca5>:5: UserWarning: \n",
            "\n",
            "`distplot` is a deprecated function and will be removed in seaborn v0.14.0.\n",
            "\n",
            "Please adapt your code to use either `displot` (a figure-level function with\n",
            "similar flexibility) or `histplot` (an axes-level function for histograms).\n",
            "\n",
            "For a guide to updating your code to use the new functions, please see\n",
            "https://gist.github.com/mwaskom/de44147ed2974457ad6372750bbe5751\n",
            "\n",
            "  ax = sns.distplot(data_expon,\n"
          ]
        },
        {
          "output_type": "execute_result",
          "data": {
            "text/plain": [
              "[Text(0.5, 0, 'Exponential Distribution'), Text(0, 0.5, 'Frequency')]"
            ]
          },
          "metadata": {},
          "execution_count": 9
        },
        {
          "output_type": "display_data",
          "data": {
            "text/plain": [
              "<Figure size 640x480 with 1 Axes>"
            ],
            "image/png": "[encoded data removed]"
          },
          "metadata": {}
        }
      ]
    },
    {
      "cell_type": "code",
      "source": [
        "# Binomial Distribution\n",
        "from scipy.stats import binom\n",
        "data_binom = binom.rvs(n=10,p=0.8,size=10000)\n",
        "\n",
        "ax = sns.distplot(data_binom,\n",
        "                  kde=False,\n",
        "                  color='orange',\n",
        "                  hist_kws={\"linewidth\": 15,'alpha':1})\n",
        "ax.set(xlabel='Binomial Distribution', ylabel='Frequency')"
      ],
      "metadata": {
        "colab": {
          "base_uri": "https://localhost:8080/",
          "height": 657
        },
        "id": "ny7i_HJssO0a",
        "outputId": "659fd1b4-7b2e-41e4-c7b0-e48bc5c6cb4c"
      },
      "execution_count": 10,
      "outputs": [
        {
          "output_type": "stream",
          "name": "stderr",
          "text": [
            "<ipython-input-10-4762f04023f6>:5: UserWarning: \n",
            "\n",
            "`distplot` is a deprecated function and will be removed in seaborn v0.14.0.\n",
            "\n",
            "Please adapt your code to use either `displot` (a figure-level function with\n",
            "similar flexibility) or `histplot` (an axes-level function for histograms).\n",
            "\n",
            "For a guide to updating your code to use the new functions, please see\n",
            "https://gist.github.com/mwaskom/de44147ed2974457ad6372750bbe5751\n",
            "\n",
            "  ax = sns.distplot(data_binom,\n"
          ]
        },
        {
          "output_type": "execute_result",
          "data": {
            "text/plain": [
              "[Text(0.5, 0, 'Binomial Distribution'), Text(0, 0.5, 'Frequency')]"
            ]
          },
          "metadata": {},
          "execution_count": 10
        },
        {
          "output_type": "display_data",
          "data": {
            "text/plain": [
              "<Figure size 640x480 with 1 Axes>"
            ],
            "image/png": "[encoded data removed]"
          },
          "metadata": {}
        }
      ]
    },
    {
      "cell_type": "markdown",
      "source": [
        "### **2.2.3.1 The Expected Value and Variance of $X$**"
      ],
      "metadata": {
        "id": "gk4lONjostHV"
      }
    },
    {
      "cell_type": "markdown",
      "source": [
        "The expected value of a random variable $X$ is a generalization of the weighted\n",
        "average, and is intuitively the arithmetic mean of a large number of independent realizations of $X$."
      ],
      "metadata": {
        "id": "7M_421jFtHb7"
      }
    },
    {
      "cell_type": "markdown",
      "source": [
        "### **Definition 2.2.14**"
      ],
      "metadata": {
        "id": "XS0xjzrqtjGk"
      }
    },
    {
      "cell_type": "markdown",
      "source": [
        " Let $X$ be a discrete random variable with set of possible\n",
        "values $D$ and pmf p(x). The expected value or mean value of $X$, denoted by\n",
        "$E(X)$ or\n",
        "$μ_X$ or just\n",
        "$μ$, is\n",
        "\n",
        "\\begin{align}\n",
        "E(X)=μ_X=\\sum_{x∈D} x⋅p(x)\n",
        "\\end{align}"
      ],
      "metadata": {
        "id": "1O93WiEltoEJ"
      }
    },
    {
      "cell_type": "markdown",
      "source": [
        "### **Example 2.2.15**"
      ],
      "metadata": {
        "id": "jM1hKyqHukrC"
      }
    },
    {
      "cell_type": "markdown",
      "source": [
        "Let $x = 1$ be a Bernoulli random variable with pmf $p(1) =\n",
        "p, p(0) = 1 − p$ and, from which $E(X) = 0 × p(0) + 1 × p(1) = p$. That is, the\n",
        "expected value of $X$ is just the probability that $X$ takes on the value $1$."
      ],
      "metadata": {
        "id": "qoXp6ZPAuvNV"
      }
    },
    {
      "cell_type": "markdown",
      "source": [
        "### **Definition 2.2.16**"
      ],
      "metadata": {
        "id": "94gkJB6WvHXR"
      }
    },
    {
      "cell_type": "markdown",
      "source": [
        "Let **$X$** have pmf $p(x)$ and expected value **$μ$**. Then the variance of $X$, denoted by $V(X)$ or $σ_{X}^2$, or just $σ^2$, is\n",
        "\n",
        "\\begin{align}\n",
        "V(X)=\\sum_{D}(x-μ)^2⋅p(x)=E[(X-μ)^2]\n",
        "\\end{align}\n",
        "\n",
        "The standard deviation (SD) of $X$ is\n",
        "\n",
        "\\begin{align}\n",
        "σ_X=\\sqrt{σ_{X}^2}\n",
        "\\end{align}"
      ],
      "metadata": {
        "id": "Qlz4qvkBvOdx"
      }
    },
    {
      "cell_type": "markdown",
      "source": [
        "### **Proposition 2.2.17**"
      ],
      "metadata": {
        "id": "LTYUwvlOw5ih"
      }
    },
    {
      "cell_type": "markdown",
      "source": [
        "\\begin{align}\n",
        "V(aX+b)=σ_{aX+b}^2=a^2⋅σ_{X}^2 \\space \\space and \\space \\space σ_{aX+b}=|a|⋅σ_x\n",
        "\\end{align}\n",
        "\n",
        "In particular,\n",
        "\n",
        "\\begin{align}\n",
        "σ_{aX}=|a|⋅σ_X, \\space σ_{X+b}=σ_X\n",
        "\\end{align}"
      ],
      "metadata": {
        "id": "h1O50bcCw98B"
      }
    },
    {
      "cell_type": "markdown",
      "source": [
        "### **Proposition 2.2.18**"
      ],
      "metadata": {
        "id": "__CUJSjlyIvF"
      }
    },
    {
      "cell_type": "markdown",
      "source": [
        "If $X$ is a binomial random variable with parameters $n$, $p$, then, $E(X)=np, V(X)=np(1-p), σ_X=\\sqrt{np(1-p)}$. If $X$ is a poisson distribution with parameter $μ$, then $E(X)=μ, V(X)=μ$."
      ],
      "metadata": {
        "id": "R9kF5IcbyNR0"
      }
    },
    {
      "cell_type": "code",
      "source": [
        "from numpy import array\n",
        "from numpy import mean\n",
        "v = array([1,2,3,4,5,6])\n",
        "print(v)\n",
        "result = mean(v)\n",
        "print(result)"
      ],
      "metadata": {
        "colab": {
          "base_uri": "https://localhost:8080/"
        },
        "id": "-q1aaCyFtGya",
        "outputId": "681fbdb5-b98e-4fb0-85ad-e7406dace27a"
      },
      "execution_count": 11,
      "outputs": [
        {
          "output_type": "stream",
          "name": "stdout",
          "text": [
            "[1 2 3 4 5 6]\n",
            "3.5\n"
          ]
        }
      ]
    },
    {
      "cell_type": "code",
      "source": [
        "M = array([[1,2,3,4,5,6],[1,2,3,4,5,6]])\n",
        "print(M)\n",
        "col_mean = mean(M, axis=0)\n",
        "print(col_mean)\n",
        "row_mean = mean(M, axis=1)\n",
        "print(row_mean)"
      ],
      "metadata": {
        "colab": {
          "base_uri": "https://localhost:8080/"
        },
        "id": "oC_vahgGzKLU",
        "outputId": "34a1bf5e-1917-4d0b-c48c-eb7adb0f9715"
      },
      "execution_count": 12,
      "outputs": [
        {
          "output_type": "stream",
          "name": "stdout",
          "text": [
            "[[1 2 3 4 5 6]\n",
            " [1 2 3 4 5 6]]\n",
            "[1. 2. 3. 4. 5. 6.]\n",
            "[3.5 3.5]\n"
          ]
        }
      ]
    },
    {
      "cell_type": "code",
      "source": [
        "from numpy import var\n",
        "v = array([1,2,3,4,5,6])\n",
        "print(v)\n",
        "result = var(v, ddof=1)\n",
        "print(result)"
      ],
      "metadata": {
        "colab": {
          "base_uri": "https://localhost:8080/"
        },
        "id": "uYt-d7HzzPkT",
        "outputId": "49689636-d05b-4db0-a937-40db700a389e"
      },
      "execution_count": 13,
      "outputs": [
        {
          "output_type": "stream",
          "name": "stdout",
          "text": [
            "[1 2 3 4 5 6]\n",
            "3.5\n"
          ]
        }
      ]
    },
    {
      "cell_type": "code",
      "source": [
        "from numpy import std\n",
        "M = array([[1,2,3,4,5,6],[1,2,3,4,5,6]])\n",
        "print(M)\n",
        "col_std = std(M, ddof=1, axis=0)\n",
        "print(col_std)\n",
        "row_std = std(M, ddof=1, axis=1)\n",
        "print(row_std)"
      ],
      "metadata": {
        "colab": {
          "base_uri": "https://localhost:8080/"
        },
        "id": "rJVo6-rbzS2L",
        "outputId": "aacd34df-bb6b-4d94-f073-ddf1c591a646"
      },
      "execution_count": 14,
      "outputs": [
        {
          "output_type": "stream",
          "name": "stdout",
          "text": [
            "[[1 2 3 4 5 6]\n",
            " [1 2 3 4 5 6]]\n",
            "[0. 0. 0. 0. 0. 0.]\n",
            "[1.87082869 1.87082869]\n"
          ]
        }
      ]
    },
    {
      "cell_type": "markdown",
      "source": [
        "## **2.2.4 Continuous Random Variables**"
      ],
      "metadata": {
        "id": "84Pq_0JmzWug"
      }
    },
    {
      "cell_type": "markdown",
      "source": [
        "### **Definition 2.2.20**"
      ],
      "metadata": {
        "id": "ve-JEMqezkYD"
      }
    },
    {
      "cell_type": "markdown",
      "source": [
        "The expected or mean value of a continuous random variable $X$\n",
        " with pdf $f(x)$\n",
        " is\n",
        "\n",
        " \\begin{align}\n",
        "μ_X=E(X)=\\int_{-∞}^{∞}x⋅f(x) \\space dx.\n",
        " \\end{align}"
      ],
      "metadata": {
        "id": "kT7YZTY_zmAJ"
      }
    },
    {
      "cell_type": "markdown",
      "source": [
        "### **Definition 2.2.21**"
      ],
      "metadata": {
        "id": "O34aMqj80gW1"
      }
    },
    {
      "cell_type": "markdown",
      "source": [
        "The variance of a continuous random variable $X$\n",
        " with pdf $f(x)$ and mean value is $μ$\n",
        "\n",
        " \\begin{align}\n",
        "σ_X^2=V(X)=\\int_{-∞}^{∞}(x-μ)^2⋅ f(x) \\space dx= E[(X-μ)^2]\n",
        " \\end{align}\n",
        "\n",
        " The standard deviation (SD) of $X$ is $σ_X=\\sqrt{V(x)}$."
      ],
      "metadata": {
        "id": "Droz_HTo0kKO"
      }
    },
    {
      "cell_type": "markdown",
      "source": [
        "### **Definition 2.2.23**"
      ],
      "metadata": {
        "id": "qo0vw6nQ2pAE"
      }
    },
    {
      "cell_type": "markdown",
      "source": [
        "$X$ is said to have an exponential distribution with parameter $λ(λ>0)$ if the pdf of $X$ is\n",
        "\n",
        "\\begin{align}\n",
        "f(z;0,1)=\\frac{1}{\\sqrt{2πσ}}e^{-z^2/2}, \\space -∞<x<∞\n",
        "\\end{align}"
      ],
      "metadata": {
        "id": "XUGXkjBD2r1t"
      }
    },
    {
      "cell_type": "markdown",
      "source": [
        "### **Proposition 2.2.26**"
      ],
      "metadata": {
        "id": "14jSqTIL3jtb"
      }
    },
    {
      "cell_type": "markdown",
      "source": [
        "If $X$ has a normal distribution with meanμand standard deviation σ, then\n",
        "\\begin{align}\n",
        "Z=\\frac{X-μ}{σ}\n",
        "\\end{align}\n",
        "\n",
        "has a standard normal distribution."
      ],
      "metadata": {
        "id": "7u17BoAn3mY_"
      }
    },
    {
      "cell_type": "code",
      "source": [
        "import math\n",
        "import scipy.stats as stats\n",
        "A = stats.norm(loc=100, scale=15)# Declare A to be a normal random variable\n",
        "print(A)\n",
        "t = np.linspace(50,150,100)\n",
        "plt.plot(t,A.pdf(t),label=\"PDF\")\n",
        "plt.legend()\n",
        "plt.show()"
      ],
      "metadata": {
        "colab": {
          "base_uri": "https://localhost:8080/",
          "height": 447
        },
        "id": "DRsrwnpczXwF",
        "outputId": "60451ba7-6c55-4da4-f22e-07086a4b27df"
      },
      "execution_count": 17,
      "outputs": [
        {
          "output_type": "stream",
          "name": "stdout",
          "text": [
            "<scipy.stats._distn_infrastructure.rv_continuous_frozen object at 0x7858b6723640>\n"
          ]
        },
        {
          "output_type": "display_data",
          "data": {
            "text/plain": [
              "<Figure size 640x480 with 1 Axes>"
            ],
            "image/png": "[encoded data removed]"
          },
          "metadata": {}
        }
      ]
    },
    {
      "cell_type": "code",
      "source": [
        "# Beta distribution\n",
        "beta=stats.beta(a=2,b=5)\n",
        "beta.rvs(size=5,random_state=133)\n",
        "beta_sample=beta.rvs(size=1000,random_state=133)\n",
        "t=np.linspace(0,1,100)\n",
        "plt.plot(t,beta.pdf(t),label=\"PDF\")\n",
        "plt.legend()\n",
        "plt.ylabel(\"Density\")\n",
        "plt.title(\"Beta Distribution\")\n",
        "plt.show()"
      ],
      "metadata": {
        "colab": {
          "base_uri": "https://localhost:8080/",
          "height": 452
        },
        "id": "WF3k_5PW4eNM",
        "outputId": "d4d1fa2f-8824-4e6e-a0ae-01d32e1b4134"
      },
      "execution_count": 18,
      "outputs": [
        {
          "output_type": "display_data",
          "data": {
            "text/plain": [
              "<Figure size 640x480 with 1 Axes>"
            ],
            "image/png": "[encoded data removed]"
          },
          "metadata": {}
        }
      ]
    }
  ]
}